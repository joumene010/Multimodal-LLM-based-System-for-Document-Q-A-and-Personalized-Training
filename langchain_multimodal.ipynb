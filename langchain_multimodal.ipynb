{
  "cells": [
    {
      "cell_type": "markdown",
      "id": "812a4dbc-fe04-4b84-bdf9-390045e30806",
      "metadata": {
        "id": "812a4dbc-fe04-4b84-bdf9-390045e30806"
      },
      "source": [
        "# Multi-modal RAG with LangChain"
      ]
    },
    {
      "cell_type": "markdown",
      "id": "ecXPgawqG7XH",
      "metadata": {
        "id": "ecXPgawqG7XH"
      },
      "source": [
        "## SetUp\n",
        "\n",
        "Install the dependencies you need to run the notebook."
      ]
    },
    {
      "cell_type": "code",
      "execution_count": null,
      "id": "133b74f6",
      "metadata": {
        "id": "133b74f6"
      },
      "outputs": [],
      "source": [
        "# for linux\n",
        "# %sudo apt-get install poppler-utils tesseract-ocr libmagic-dev\n",
        "\n",
        "# for mac\n",
        "# %brew install poppler tesseract libmagic"
      ]
    },
    {
      "cell_type": "code",
      "execution_count": null,
      "id": "lo-jffPrU-aH",
      "metadata": {
        "colab": {
          "base_uri": "https://localhost:8080/"
        },
        "id": "lo-jffPrU-aH",
        "outputId": "53905ae9-4298-4ff3-c3bf-d1f84790b380"
      },
      "outputs": [
        {
          "name": "stdout",
          "output_type": "stream",
          "text": [
            "Reading package lists... Done\n",
            "Building dependency tree... Done\n",
            "Reading state information... Done\n",
            "The following additional packages will be installed:\n",
            "  tesseract-ocr-eng tesseract-ocr-osd\n",
            "The following NEW packages will be installed:\n",
            "  tesseract-ocr tesseract-ocr-eng tesseract-ocr-osd\n",
            "0 upgraded, 3 newly installed, 0 to remove and 29 not upgraded.\n",
            "Need to get 4,816 kB of archives.\n",
            "After this operation, 15.6 MB of additional disk space will be used.\n",
            "Get:1 http://archive.ubuntu.com/ubuntu jammy/universe amd64 tesseract-ocr-eng all 1:4.00~git30-7274cfa-1.1 [1,591 kB]\n",
            "Get:2 http://archive.ubuntu.com/ubuntu jammy/universe amd64 tesseract-ocr-osd all 1:4.00~git30-7274cfa-1.1 [2,990 kB]\n",
            "Get:3 http://archive.ubuntu.com/ubuntu jammy/universe amd64 tesseract-ocr amd64 4.1.1-2.1build1 [236 kB]\n",
            "Fetched 4,816 kB in 1s (4,940 kB/s)\n",
            "debconf: unable to initialize frontend: Dialog\n",
            "debconf: (No usable dialog-like program is installed, so the dialog based frontend cannot be used. at /usr/share/perl5/Debconf/FrontEnd/Dialog.pm line 78, <> line 3.)\n",
            "debconf: falling back to frontend: Readline\n",
            "debconf: unable to initialize frontend: Readline\n",
            "debconf: (This frontend requires a controlling tty.)\n",
            "debconf: falling back to frontend: Teletype\n",
            "dpkg-preconfigure: unable to re-open stdin: \n",
            "Selecting previously unselected package tesseract-ocr-eng.\n",
            "(Reading database ... 124977 files and directories currently installed.)\n",
            "Preparing to unpack .../tesseract-ocr-eng_1%3a4.00~git30-7274cfa-1.1_all.deb ...\n",
            "Unpacking tesseract-ocr-eng (1:4.00~git30-7274cfa-1.1) ...\n",
            "Selecting previously unselected package tesseract-ocr-osd.\n",
            "Preparing to unpack .../tesseract-ocr-osd_1%3a4.00~git30-7274cfa-1.1_all.deb ...\n",
            "Unpacking tesseract-ocr-osd (1:4.00~git30-7274cfa-1.1) ...\n",
            "Selecting previously unselected package tesseract-ocr.\n",
            "Preparing to unpack .../tesseract-ocr_4.1.1-2.1build1_amd64.deb ...\n",
            "Unpacking tesseract-ocr (4.1.1-2.1build1) ...\n",
            "Setting up tesseract-ocr-eng (1:4.00~git30-7274cfa-1.1) ...\n",
            "Setting up tesseract-ocr-osd (1:4.00~git30-7274cfa-1.1) ...\n",
            "Setting up tesseract-ocr (4.1.1-2.1build1) ...\n",
            "Processing triggers for man-db (2.10.2-1) ...\n"
          ]
        }
      ],
      "source": [
        "!sudo apt install tesseract-ocr"
      ]
    },
    {
      "cell_type": "code",
      "execution_count": null,
      "id": "2nDWBTrhn-_M",
      "metadata": {
        "colab": {
          "base_uri": "https://localhost:8080/"
        },
        "id": "2nDWBTrhn-_M",
        "outputId": "747a54ac-02b4-421a-be2c-0ec076dcb655"
      },
      "outputs": [
        {
          "name": "stdout",
          "output_type": "stream",
          "text": [
            "\u001b[?25l     \u001b[90m━━━━━━━━━━━━━━━━━━━━━━━━━━━━━━━━━━━━━━━━\u001b[0m \u001b[32m0.0/981.5 kB\u001b[0m \u001b[31m?\u001b[0m eta \u001b[36m-:--:--\u001b[0m\r\u001b[2K     \u001b[90m━━━━━━━━━━━━━━━━━━━━━━━━━━━━━━━━━━━━━━━━\u001b[0m \u001b[32m981.5/981.5 kB\u001b[0m \u001b[31m50.2 MB/s\u001b[0m eta \u001b[36m0:00:00\u001b[0m\n",
            "\u001b[?25h  Preparing metadata (setup.py) ... \u001b[?25l\u001b[?25hdone\n",
            "\u001b[2K     \u001b[90m━━━━━━━━━━━━━━━━━━━━━━━━━━━━━━━━━━━━━━━━\u001b[0m \u001b[32m48.2/48.2 kB\u001b[0m \u001b[31m4.0 MB/s\u001b[0m eta \u001b[36m0:00:00\u001b[0m\n",
            "\u001b[2K     \u001b[90m━━━━━━━━━━━━━━━━━━━━━━━━━━━━━━━━━━━━━━━━\u001b[0m \u001b[32m117.0/117.0 kB\u001b[0m \u001b[31m10.6 MB/s\u001b[0m eta \u001b[36m0:00:00\u001b[0m\n",
            "\u001b[?25h  Preparing metadata (setup.py) ... \u001b[?25l\u001b[?25hdone\n",
            "\u001b[2K   \u001b[90m━━━━━━━━━━━━━━━━━━━━━━━━━━━━━━━━━━━━━━━━\u001b[0m \u001b[32m244.3/244.3 kB\u001b[0m \u001b[31m22.3 MB/s\u001b[0m eta \u001b[36m0:00:00\u001b[0m\n",
            "\u001b[2K   \u001b[90m━━━━━━━━━━━━━━━━━━━━━━━━━━━━━━━━━━━━━━━━\u001b[0m \u001b[32m472.8/472.8 kB\u001b[0m \u001b[31m36.5 MB/s\u001b[0m eta \u001b[36m0:00:00\u001b[0m\n",
            "\u001b[2K   \u001b[90m━━━━━━━━━━━━━━━━━━━━━━━━━━━━━━━━━━━━━━━━\u001b[0m \u001b[32m48.9/48.9 kB\u001b[0m \u001b[31m4.5 MB/s\u001b[0m eta \u001b[36m0:00:00\u001b[0m\n",
            "\u001b[2K   \u001b[90m━━━━━━━━━━━━━━━━━━━━━━━━━━━━━━━━━━━━━━━━\u001b[0m \u001b[32m112.5/112.5 kB\u001b[0m \u001b[31m9.3 MB/s\u001b[0m eta \u001b[36m0:00:00\u001b[0m\n",
            "\u001b[2K   \u001b[90m━━━━━━━━━━━━━━━━━━━━━━━━━━━━━━━━━━━━━━━━\u001b[0m \u001b[32m590.6/590.6 kB\u001b[0m \u001b[31m39.2 MB/s\u001b[0m eta \u001b[36m0:00:00\u001b[0m\n",
            "\u001b[2K   \u001b[90m━━━━━━━━━━━━━━━━━━━━━━━━━━━━━━━━━━━━━━━━\u001b[0m \u001b[32m523.4/523.4 kB\u001b[0m \u001b[31m37.8 MB/s\u001b[0m eta \u001b[36m0:00:00\u001b[0m\n",
            "\u001b[2K   \u001b[90m━━━━━━━━━━━━━━━━━━━━━━━━━━━━━━━━━━━━━━━━\u001b[0m \u001b[32m16.0/16.0 MB\u001b[0m \u001b[31m101.5 MB/s\u001b[0m eta \u001b[36m0:00:00\u001b[0m\n",
            "\u001b[2K   \u001b[90m━━━━━━━━━━━━━━━━━━━━━━━━━━━━━━━━━━━━━━━━\u001b[0m \u001b[32m5.6/5.6 MB\u001b[0m \u001b[31m51.4 MB/s\u001b[0m eta \u001b[36m0:00:00\u001b[0m\n",
            "\u001b[2K   \u001b[90m━━━━━━━━━━━━━━━━━━━━━━━━━━━━━━━━━━━━━━━━\u001b[0m \u001b[32m1.2/1.2 MB\u001b[0m \u001b[31m47.5 MB/s\u001b[0m eta \u001b[36m0:00:00\u001b[0m\n",
            "\u001b[2K   \u001b[90m━━━━━━━━━━━━━━━━━━━━━━━━━━━━━━━━━━━━━━━━\u001b[0m \u001b[32m2.4/2.4 MB\u001b[0m \u001b[31m75.4 MB/s\u001b[0m eta \u001b[36m0:00:00\u001b[0m\n",
            "\u001b[2K   \u001b[90m━━━━━━━━━━━━━━━━━━━━━━━━━━━━━━━━━━━━━━━━\u001b[0m \u001b[32m302.0/302.0 kB\u001b[0m \u001b[31m26.1 MB/s\u001b[0m eta \u001b[36m0:00:00\u001b[0m\n",
            "\u001b[2K   \u001b[90m━━━━━━━━━━━━━━━━━━━━━━━━━━━━━━━━━━━━━━━━\u001b[0m \u001b[32m167.6/167.6 kB\u001b[0m \u001b[31m15.1 MB/s\u001b[0m eta \u001b[36m0:00:00\u001b[0m\n",
            "\u001b[2K   \u001b[90m━━━━━━━━━━━━━━━━━━━━━━━━━━━━━━━━━━━━━━━━\u001b[0m \u001b[32m3.1/3.1 MB\u001b[0m \u001b[31m87.6 MB/s\u001b[0m eta \u001b[36m0:00:00\u001b[0m\n",
            "\u001b[2K   \u001b[90m━━━━━━━━━━━━━━━━━━━━━━━━━━━━━━━━━━━━━━━━\u001b[0m \u001b[32m1.8/1.8 MB\u001b[0m \u001b[31m74.9 MB/s\u001b[0m eta \u001b[36m0:00:00\u001b[0m\n",
            "\u001b[2K   \u001b[90m━━━━━━━━━━━━━━━━━━━━━━━━━━━━━━━━━━━━━━━━\u001b[0m \u001b[32m166.5/166.5 kB\u001b[0m \u001b[31m12.3 MB/s\u001b[0m eta \u001b[36m0:00:00\u001b[0m\n",
            "\u001b[2K   \u001b[90m━━━━━━━━━━━━━━━━━━━━━━━━━━━━━━━━━━━━━━━━\u001b[0m \u001b[32m50.9/50.9 kB\u001b[0m \u001b[31m4.3 MB/s\u001b[0m eta \u001b[36m0:00:00\u001b[0m\n",
            "\u001b[2K   \u001b[90m━━━━━━━━━━━━━━━━━━━━━━━━━━━━━━━━━━━━━━━━\u001b[0m \u001b[32m79.5/79.5 kB\u001b[0m \u001b[31m6.8 MB/s\u001b[0m eta \u001b[36m0:00:00\u001b[0m\n",
            "\u001b[2K   \u001b[90m━━━━━━━━━━━━━━━━━━━━━━━━━━━━━━━━━━━━━━━━\u001b[0m \u001b[32m13.3/13.3 MB\u001b[0m \u001b[31m107.3 MB/s\u001b[0m eta \u001b[36m0:00:00\u001b[0m\n",
            "\u001b[2K   \u001b[90m━━━━━━━━━━━━━━━━━━━━━━━━━━━━━━━━━━━━━━━━\u001b[0m \u001b[32m363.4/363.4 MB\u001b[0m \u001b[31m2.9 MB/s\u001b[0m eta \u001b[36m0:00:00\u001b[0m\n",
            "\u001b[2K   \u001b[90m━━━━━━━━━━━━━━━━━━━━━━━━━━━━━━━━━━━━━━━━\u001b[0m \u001b[32m13.8/13.8 MB\u001b[0m \u001b[31m88.8 MB/s\u001b[0m eta \u001b[36m0:00:00\u001b[0m\n",
            "\u001b[2K   \u001b[90m━━━━━━━━━━━━━━━━━━━━━━━━━━━━━━━━━━━━━━━━\u001b[0m \u001b[32m24.6/24.6 MB\u001b[0m \u001b[31m76.0 MB/s\u001b[0m eta \u001b[36m0:00:00\u001b[0m\n",
            "\u001b[2K   \u001b[90m━━━━━━━━━━━━━━━━━━━━━━━━━━━━━━━━━━━━━━━━\u001b[0m \u001b[32m883.7/883.7 kB\u001b[0m \u001b[31m53.5 MB/s\u001b[0m eta \u001b[36m0:00:00\u001b[0m\n",
            "\u001b[2K   \u001b[90m━━━━━━━━━━━━━━━━━━━━━━━━━━━━━━━━━━━━━━━━\u001b[0m \u001b[32m664.8/664.8 MB\u001b[0m \u001b[31m1.3 MB/s\u001b[0m eta \u001b[36m0:00:00\u001b[0m\n",
            "\u001b[2K   \u001b[90m━━━━━━━━━━━━━━━━━━━━━━━━━━━━━━━━━━━━━━━━\u001b[0m \u001b[32m211.5/211.5 MB\u001b[0m \u001b[31m5.8 MB/s\u001b[0m eta \u001b[36m0:00:00\u001b[0m\n",
            "\u001b[2K   \u001b[90m━━━━━━━━━━━━━━━━━━━━━━━━━━━━━━━━━━━━━━━━\u001b[0m \u001b[32m56.3/56.3 MB\u001b[0m \u001b[31m12.6 MB/s\u001b[0m eta \u001b[36m0:00:00\u001b[0m\n",
            "\u001b[2K   \u001b[90m━━━━━━━━━━━━━━━━━━━━━━━━━━━━━━━━━━━━━━━━\u001b[0m \u001b[32m127.9/127.9 MB\u001b[0m \u001b[31m7.4 MB/s\u001b[0m eta \u001b[36m0:00:00\u001b[0m\n",
            "\u001b[2K   \u001b[90m━━━━━━━━━━━━━━━━━━━━━━━━━━━━━━━━━━━━━━━━\u001b[0m \u001b[32m207.5/207.5 MB\u001b[0m \u001b[31m5.7 MB/s\u001b[0m eta \u001b[36m0:00:00\u001b[0m\n",
            "\u001b[2K   \u001b[90m━━━━━━━━━━━━━━━━━━━━━━━━━━━━━━━━━━━━━━━━\u001b[0m \u001b[32m21.1/21.1 MB\u001b[0m \u001b[31m76.6 MB/s\u001b[0m eta \u001b[36m0:00:00\u001b[0m\n",
            "\u001b[2K   \u001b[90m━━━━━━━━━━━━━━━━━━━━━━━━━━━━━━━━━━━━━━━━\u001b[0m \u001b[32m165.1/165.1 kB\u001b[0m \u001b[31m14.6 MB/s\u001b[0m eta \u001b[36m0:00:00\u001b[0m\n",
            "\u001b[2K   \u001b[90m━━━━━━━━━━━━━━━━━━━━━━━━━━━━━━━━━━━━━━━━\u001b[0m \u001b[32m114.6/114.6 kB\u001b[0m \u001b[31m10.1 MB/s\u001b[0m eta \u001b[36m0:00:00\u001b[0m\n",
            "\u001b[2K   \u001b[90m━━━━━━━━━━━━━━━━━━━━━━━━━━━━━━━━━━━━━━━━\u001b[0m \u001b[32m2.9/2.9 MB\u001b[0m \u001b[31m79.6 MB/s\u001b[0m eta \u001b[36m0:00:00\u001b[0m\n",
            "\u001b[2K   \u001b[90m━━━━━━━━━━━━━━━━━━━━━━━━━━━━━━━━━━━━━━━━\u001b[0m \u001b[32m46.0/46.0 kB\u001b[0m \u001b[31m3.8 MB/s\u001b[0m eta \u001b[36m0:00:00\u001b[0m\n",
            "\u001b[2K   \u001b[90m━━━━━━━━━━━━━━━━━━━━━━━━━━━━━━━━━━━━━━━━\u001b[0m \u001b[32m86.8/86.8 kB\u001b[0m \u001b[31m8.0 MB/s\u001b[0m eta \u001b[36m0:00:00\u001b[0m\n",
            "\u001b[?25h  Building wheel for langdetect (setup.py) ... \u001b[?25l\u001b[?25hdone\n",
            "  Building wheel for antlr4-python3-runtime (setup.py) ... \u001b[?25l\u001b[?25hdone\n",
            "\u001b[2K     \u001b[90m━━━━━━━━━━━━━━━━━━━━━━━━━━━━━━━━━━━━━━━━\u001b[0m \u001b[32m67.3/67.3 kB\u001b[0m \u001b[31m5.2 MB/s\u001b[0m eta \u001b[36m0:00:00\u001b[0m\n",
            "\u001b[?25h  Installing build dependencies ... \u001b[?25l\u001b[?25hdone\n",
            "  Getting requirements to build wheel ... \u001b[?25l\u001b[?25hdone\n",
            "  Preparing metadata (pyproject.toml) ... \u001b[?25l\u001b[?25hdone\n",
            "\u001b[2K   \u001b[90m━━━━━━━━━━━━━━━━━━━━━━━━━━━━━━━━━━━━━━━━\u001b[0m \u001b[32m611.1/611.1 kB\u001b[0m \u001b[31m37.8 MB/s\u001b[0m eta \u001b[36m0:00:00\u001b[0m\n",
            "\u001b[2K   \u001b[90m━━━━━━━━━━━━━━━━━━━━━━━━━━━━━━━━━━━━━━━━\u001b[0m \u001b[32m2.4/2.4 MB\u001b[0m \u001b[31m86.5 MB/s\u001b[0m eta \u001b[36m0:00:00\u001b[0m\n",
            "\u001b[2K   \u001b[90m━━━━━━━━━━━━━━━━━━━━━━━━━━━━━━━━━━━━━━━━\u001b[0m \u001b[32m284.2/284.2 kB\u001b[0m \u001b[31m23.6 MB/s\u001b[0m eta \u001b[36m0:00:00\u001b[0m\n",
            "\u001b[2K   \u001b[90m━━━━━━━━━━━━━━━━━━━━━━━━━━━━━━━━━━━━━━━━\u001b[0m \u001b[32m94.9/94.9 kB\u001b[0m \u001b[31m9.7 MB/s\u001b[0m eta \u001b[36m0:00:00\u001b[0m\n",
            "\u001b[2K   \u001b[90m━━━━━━━━━━━━━━━━━━━━━━━━━━━━━━━━━━━━━━━━\u001b[0m \u001b[32m2.0/2.0 MB\u001b[0m \u001b[31m67.3 MB/s\u001b[0m eta \u001b[36m0:00:00\u001b[0m\n",
            "\u001b[2K   \u001b[90m━━━━━━━━━━━━━━━━━━━━━━━━━━━━━━━━━━━━━━━━\u001b[0m \u001b[32m101.6/101.6 kB\u001b[0m \u001b[31m9.4 MB/s\u001b[0m eta \u001b[36m0:00:00\u001b[0m\n",
            "\u001b[2K   \u001b[90m━━━━━━━━━━━━━━━━━━━━━━━━━━━━━━━━━━━━━━━━\u001b[0m \u001b[32m55.9/55.9 kB\u001b[0m \u001b[31m4.6 MB/s\u001b[0m eta \u001b[36m0:00:00\u001b[0m\n",
            "\u001b[2K   \u001b[90m━━━━━━━━━━━━━━━━━━━━━━━━━━━━━━━━━━━━━━━━\u001b[0m \u001b[32m177.4/177.4 kB\u001b[0m \u001b[31m16.2 MB/s\u001b[0m eta \u001b[36m0:00:00\u001b[0m\n",
            "\u001b[2K   \u001b[90m━━━━━━━━━━━━━━━━━━━━━━━━━━━━━━━━━━━━━━━━\u001b[0m \u001b[32m65.0/65.0 kB\u001b[0m \u001b[31m5.7 MB/s\u001b[0m eta \u001b[36m0:00:00\u001b[0m\n",
            "\u001b[2K   \u001b[90m━━━━━━━━━━━━━━━━━━━━━━━━━━━━━━━━━━━━━━━━\u001b[0m \u001b[32m118.7/118.7 kB\u001b[0m \u001b[31m9.8 MB/s\u001b[0m eta \u001b[36m0:00:00\u001b[0m\n",
            "\u001b[2K   \u001b[90m━━━━━━━━━━━━━━━━━━━━━━━━━━━━━━━━━━━━━━━━\u001b[0m \u001b[32m77.8/77.8 kB\u001b[0m \u001b[31m7.1 MB/s\u001b[0m eta \u001b[36m0:00:00\u001b[0m\n",
            "\u001b[2K   \u001b[90m━━━━━━━━━━━━━━━━━━━━━━━━━━━━━━━━━━━━━━━━\u001b[0m \u001b[32m62.3/62.3 kB\u001b[0m \u001b[31m5.2 MB/s\u001b[0m eta \u001b[36m0:00:00\u001b[0m\n",
            "\u001b[2K   \u001b[90m━━━━━━━━━━━━━━━━━━━━━━━━━━━━━━━━━━━━━━━━\u001b[0m \u001b[32m459.8/459.8 kB\u001b[0m \u001b[31m33.5 MB/s\u001b[0m eta \u001b[36m0:00:00\u001b[0m\n",
            "\u001b[2K   \u001b[90m━━━━━━━━━━━━━━━━━━━━━━━━━━━━━━━━━━━━━━━━\u001b[0m \u001b[32m319.7/319.7 kB\u001b[0m \u001b[31m20.8 MB/s\u001b[0m eta \u001b[36m0:00:00\u001b[0m\n",
            "\u001b[2K   \u001b[90m━━━━━━━━━━━━━━━━━━━━━━━━━━━━━━━━━━━━━━━━\u001b[0m \u001b[32m72.0/72.0 kB\u001b[0m \u001b[31m5.6 MB/s\u001b[0m eta \u001b[36m0:00:00\u001b[0m\n",
            "\u001b[2K   \u001b[90m━━━━━━━━━━━━━━━━━━━━━━━━━━━━━━━━━━━━━━━━\u001b[0m \u001b[32m4.0/4.0 MB\u001b[0m \u001b[31m90.8 MB/s\u001b[0m eta \u001b[36m0:00:00\u001b[0m\n",
            "\u001b[2K   \u001b[90m━━━━━━━━━━━━━━━━━━━━━━━━━━━━━━━━━━━━━━━━\u001b[0m \u001b[32m452.6/452.6 kB\u001b[0m \u001b[31m34.4 MB/s\u001b[0m eta \u001b[36m0:00:00\u001b[0m\n",
            "\u001b[?25h  Building wheel for pypika (pyproject.toml) ... \u001b[?25l\u001b[?25hdone\n",
            "ERROR: unknown command \"installµ\" - maybe you meant \"install\"\n"
          ]
        }
      ],
      "source": [
        "%pip install -Uq \"unstructured[all-docs]\" pillow lxml pillow\n",
        "%pip install -Uq chromadb tiktoken\n",
        "%pip installµ -Uq langchain langchain-community langchain-openai langchain-groq\n",
        "%pip install -Uq python_dotenv\n"
      ]
    },
    {
      "cell_type": "code",
      "execution_count": null,
      "id": "91106e31",
      "metadata": {
        "id": "91106e31"
      },
      "outputs": [],
      "source": [
        "import os\n",
        "\n",
        "# keys for the services we will use\n",
        "\n",
        "os.environ[\"OPENAI_API_KEY\"] = \"\"\n",
        "os.environ[\"GROQ_API_KEY\"] = \"\"\n",
        "os.environ[\"LANGCHAIN_API_KEY\"] = \"\"\n",
        "os.environ[\"LANGCHAIN_TRACING_V2\"] = \"true\"\n"
      ]
    },
    {
      "cell_type": "code",
      "execution_count": null,
      "id": "Wj7r5VNGgA-7",
      "metadata": {
        "id": "Wj7r5VNGgA-7"
      },
      "outputs": [],
      "source": []
    },
    {
      "cell_type": "code",
      "execution_count": null,
      "id": "mhRyWIpCSHkR",
      "metadata": {
        "colab": {
          "base_uri": "https://localhost:8080/"
        },
        "id": "mhRyWIpCSHkR",
        "outputId": "317dd19a-210c-4cdc-9d8d-a60faa8abf69"
      },
      "outputs": [
        {
          "name": "stdout",
          "output_type": "stream",
          "text": [
            "Mounted at /content/drive\n"
          ]
        }
      ],
      "source": [
        "from google.colab import drive\n",
        "drive.mount('/content/drive')"
      ]
    },
    {
      "cell_type": "code",
      "execution_count": null,
      "id": "QoxS5CL8SoCX",
      "metadata": {
        "colab": {
          "base_uri": "https://localhost:8080/"
        },
        "id": "QoxS5CL8SoCX",
        "outputId": "5b6ad06b-4172-4099-c538-b75bebaf1a33"
      },
      "outputs": [
        {
          "name": "stdout",
          "output_type": "stream",
          "text": [
            "Reading package lists... Done\n",
            "Building dependency tree... Done\n",
            "Reading state information... Done\n",
            "The following NEW packages will be installed:\n",
            "  poppler-utils\n",
            "0 upgraded, 1 newly installed, 0 to remove and 29 not upgraded.\n",
            "Need to get 186 kB of archives.\n",
            "After this operation, 696 kB of additional disk space will be used.\n",
            "Get:1 http://archive.ubuntu.com/ubuntu jammy-updates/main amd64 poppler-utils amd64 22.02.0-2ubuntu0.6 [186 kB]\n",
            "Fetched 186 kB in 1s (364 kB/s)\n",
            "Selecting previously unselected package poppler-utils.\n",
            "(Reading database ... 124947 files and directories currently installed.)\n",
            "Preparing to unpack .../poppler-utils_22.02.0-2ubuntu0.6_amd64.deb ...\n",
            "Unpacking poppler-utils (22.02.0-2ubuntu0.6) ...\n",
            "Setting up poppler-utils (22.02.0-2ubuntu0.6) ...\n",
            "Processing triggers for man-db (2.10.2-1) ...\n"
          ]
        }
      ],
      "source": [
        "!apt-get install poppler-utils"
      ]
    },
    {
      "cell_type": "markdown",
      "id": "74b56bde-1ba0-4525-a11d-cab02c5659e4",
      "metadata": {
        "id": "74b56bde-1ba0-4525-a11d-cab02c5659e4"
      },
      "source": [
        "## Extract the data\n",
        "\n",
        "Extract the elements of the PDF that we will be able to use in the retrieval process. These elements can be: Text, Images, Tables, etc."
      ]
    },
    {
      "cell_type": "markdown",
      "id": "e62ec070",
      "metadata": {
        "id": "e62ec070"
      },
      "source": [
        "### Partition PDF tables, text, and images"
      ]
    },
    {
      "cell_type": "code",
      "execution_count": null,
      "id": "0a046528-8d22-4f4e-a520-962026562939",
      "metadata": {
        "colab": {
          "base_uri": "https://localhost:8080/",
          "height": 182,
          "referenced_widgets": [
            "757da6cc103a498fa7521de35cd94a41",
            "7ec9abd475124554bf6fdbd2086a004d",
            "02df31a4c7394e20a0782cceb64972f8",
            "1323777ad20a40d4bc414759f7e7af70",
            "28d010b713984c64b3f62a69f8e10b45",
            "0f187328110f40beac9ba3e5880e0b5d",
            "639c462e371f42b8bc8b889a1ea78991",
            "10097809ee254681a5c7e44259e7ccff",
            "5e2d95aa78d34f0b932393751296747e",
            "28e9dce05ba14c408890693b5b6a8dec",
            "012483d4c1064406932c662dee014e00",
            "27859dbc48994aa9a4a058ad0b73e826",
            "1e50378998f944f5905dd33c2e701acf",
            "fc95fbfeb583406c93a638a87320307a",
            "36b8ebd541a64d53ba3b05e4161e037d",
            "efb7088fe1ea4e78995b578a11477980",
            "48bcdf3f7e0b4428861cf45a1e5eeac8",
            "b7cad28af16941998c8ba161593ef3fa",
            "835ae00570c74b68a0bc4b58f7bece6d",
            "3df75a6f0c75481e9bb45275f08c2a9e",
            "31dd8dfa7eb345fdb70bc87b67ac09d4",
            "c4b85a6d22b24fbd88f0c46a579e7f2c",
            "171e20c360a74e37b022920bbfbd6726",
            "83f674a91b7448999970f5946ef48e36",
            "b04d788fc66e46fbb4e005f0a64115bf",
            "585deb995fe34c84b2b11b5f5910f2e0",
            "bbeeba6874534b83bcb6fb63f70af9aa",
            "7e9a20c7fd6f49348255d8b40e33bdfc",
            "a599f88d766b45a89fe1d7a03a8a6b1a",
            "226abe0b809b4a9abc893afa4d2f7d58",
            "2cee68f9f5b148b0abab3f6f87a95464",
            "52e86fedebe74585b006177b6bc2d1f8",
            "d31aac9fc43e45109e59b6863dadbd11",
            "c1b47648b8ea4442a9ef8042e4e688d2",
            "0f65b38b8e45423c96adb551232b4f4d",
            "b98cb470f89744f492707bbb4ca5c471",
            "425513c0909a4c12b2a69e50cc93ab2b",
            "03adf85ef48143198a8c7930f329e238",
            "c465664761464d8a9110f2b36ab6b2b6",
            "9bc6130e62864731b7ceb271bb3d8b5c",
            "4ef5123e424246fb929ee7cc81d36114",
            "1ecb5b386a364a90bcf2ac9ed8fab90c",
            "b0b40f0c6d3b48628872ffbbf970522e",
            "b824b6c1ab5e460789e8f2d4ff3d53cd"
          ]
        },
        "id": "0a046528-8d22-4f4e-a520-962026562939",
        "outputId": "8d2a1413-96d2-4b01-8254-d42128cdffb6",
        "scrolled": true
      },
      "outputs": [
        {
          "name": "stderr",
          "output_type": "stream",
          "text": [
            "The cache for model files in Transformers v4.22.0 has been updated. Migrating your old cache. This is a one-time only operation. You can interrupt this and resume the migration later on by calling `transformers.utils.move_cache()`.\n"
          ]
        },
        {
          "data": {
            "application/vnd.jupyter.widget-view+json": {
              "model_id": "757da6cc103a498fa7521de35cd94a41",
              "version_major": 2,
              "version_minor": 0
            },
            "text/plain": [
              "0it [00:00, ?it/s]"
            ]
          },
          "metadata": {},
          "output_type": "display_data"
        },
        {
          "data": {
            "application/vnd.jupyter.widget-view+json": {
              "model_id": "27859dbc48994aa9a4a058ad0b73e826",
              "version_major": 2,
              "version_minor": 0
            },
            "text/plain": [
              "config.json:   0%|          | 0.00/1.47k [00:00<?, ?B/s]"
            ]
          },
          "metadata": {},
          "output_type": "display_data"
        },
        {
          "data": {
            "application/vnd.jupyter.widget-view+json": {
              "model_id": "171e20c360a74e37b022920bbfbd6726",
              "version_major": 2,
              "version_minor": 0
            },
            "text/plain": [
              "model.safetensors:   0%|          | 0.00/115M [00:00<?, ?B/s]"
            ]
          },
          "metadata": {},
          "output_type": "display_data"
        },
        {
          "data": {
            "application/vnd.jupyter.widget-view+json": {
              "model_id": "c1b47648b8ea4442a9ef8042e4e688d2",
              "version_major": 2,
              "version_minor": 0
            },
            "text/plain": [
              "model.safetensors:   0%|          | 0.00/46.8M [00:00<?, ?B/s]"
            ]
          },
          "metadata": {},
          "output_type": "display_data"
        }
      ],
      "source": [
        "from unstructured.partition.pdf import partition_pdf\n",
        "\n",
        "output_path = \"./content\"\n",
        "file_path = '/content/attention is all you need.pdf'\n",
        "\n",
        "# Reference: https://docs.unstructured.io/open-source/core-functionality/chunking\n",
        "chunks = partition_pdf(\n",
        "    filename= file_path,\n",
        "    infer_table_structure=True,            # extract tables\n",
        "    strategy=\"hi_res\",                     # mandatory to infer tables\n",
        "\n",
        "    extract_image_block_types=[\"Image\"],   # Add 'Table' to list to extract image of tables\n",
        "    # image_output_dir_path=output_path,   # if None, images and tables will saved in base64\n",
        "\n",
        "    extract_image_block_to_payload=True,   # if true, will extract base64 for API usage\n",
        "\n",
        "    chunking_strategy=\"by_title\",          # or 'basic'\n",
        "    max_characters=10000,                  # defaults to 500\n",
        "    combine_text_under_n_chars=2000,       # defaults to 0\n",
        "    new_after_n_chars=6000,\n",
        "\n",
        "    # extract_images_in_pdf=True,          # deprecated\n",
        ")"
      ]
    },
    {
      "cell_type": "code",
      "execution_count": null,
      "id": "038f6733",
      "metadata": {
        "colab": {
          "base_uri": "https://localhost:8080/"
        },
        "id": "038f6733",
        "outputId": "17965ae0-e2ce-4903-d000-f3f8b7eaf1e1"
      },
      "outputs": [
        {
          "data": {
            "text/plain": [
              "{\"<class 'unstructured.documents.elements.CompositeElement'>\"}"
            ]
          },
          "execution_count": 18,
          "metadata": {},
          "output_type": "execute_result"
        }
      ],
      "source": [
        "# We get 2 types of elements from the partition_pdf function\n",
        "set([str(type(el)) for el in chunks])"
      ]
    },
    {
      "cell_type": "code",
      "execution_count": null,
      "id": "cccca0db",
      "metadata": {
        "colab": {
          "base_uri": "https://localhost:8080/"
        },
        "id": "cccca0db",
        "outputId": "31ff4e73-1d05-452e-b80a-60f112cf2325"
      },
      "outputs": [
        {
          "data": {
            "text/plain": [
              "{'type': 'CompositeElement',\n",
              " 'element_id': '33cdd5b38969169192c90d1ffa3d0567',\n",
              " 'text': '3.2 Attention\\n\\nAn attention function can be described as mapping a query and a set of key-value pairs to an output, where the query, keys, values, and output are all vectors. The output is computed as a weighted sum\\n\\n3\\n\\nScaled Dot-Product Attention\\n\\nMulti-Head Attention\\n\\nLinear\\n\\nFigure 2: (left) Scaled Dot-Product Attention. (right) Multi-Head Attention consists of several attention layers running in parallel.\\n\\nof the values, where the weight assigned to each value is computed by a compatibility function of the query with the corresponding key.\\n\\n3.2.1 Scaled Dot-Product Attention\\n\\nWe call our particular attention \"Scaled Dot-Product Attention\" (Figure 2). The input consists of queries and keys of dimension dk, and values of dimension dv. We compute the dot products of the √ dk, and apply a softmax function to obtain the weights on the query with all keys, divide each by values.\\n\\nIn practice, we compute the attention function on a set of queries simultaneously, packed together into a matrix Q. The keys and values are also packed together into matrices K and V . We compute the matrix of outputs as:\\n\\nAttention(Q,K,V ) = softmax( QKT √ dk )V (1)\\n\\nThe two most commonly used attention functions are additive attention [2], and dot-product (multi- plicative) attention. Dot-product attention is identical to our algorithm, except for the scaling factor 1√ of . Additive attention computes the compatibility function using a feed-forward network with dk a single hidden layer. While the two are similar in theoretical complexity, dot-product attention is much faster and more space-efficient in practice, since it can be implemented using highly optimized matrix multiplication code.\\n\\nWhile for small values of dk the two mechanisms perform similarly, additive attention outperforms dot product attention without scaling for larger values of dk [3]. We suspect that for large values of dk, the dot products grow large in magnitude, pushing the softmax function into regions where it has extremely small gradients 4. To counteract this effect, we scale the dot products by 1√ . dk',\n",
              " 'metadata': {'filetype': 'application/pdf',\n",
              "  'languages': ['eng'],\n",
              "  'last_modified': '2025-03-06T02:30:28',\n",
              "  'page_number': 3,\n",
              "  'orig_elements': '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',\n",
              "  'file_directory': '/content',\n",
              "  'filename': 'attention is all you need.pdf'}}"
            ]
          },
          "execution_count": 23,
          "metadata": {},
          "output_type": "execute_result"
        }
      ],
      "source": [
        "# Each CompositeElement containes a bunch of related elements.\n",
        "# This makes it easy to use these elements together in a RAG pipeline.\n",
        "#each chunk is a set of components  of different type = text or img or title returned grouped by title\n",
        "\n",
        "chunks[3].to_dict()\n",
        "\n"
      ]
    },
    {
      "cell_type": "code",
      "execution_count": null,
      "id": "XdPsX_AKWnPU",
      "metadata": {
        "colab": {
          "base_uri": "https://localhost:8080/"
        },
        "id": "XdPsX_AKWnPU",
        "outputId": "06acf06b-0662-474b-aff5-43386c428e76"
      },
      "outputs": [
        {
          "name": "stdout",
          "output_type": "stream",
          "text": [
            "<class 'unstructured.documents.elements.Title'>\n"
          ]
        }
      ],
      "source": [
        "if \"Title\" in str(type(chunks[3].metadata.orig_elements[0])):\n",
        "  print(str(type(chunks[3].metadata.orig_elements[0])))\n",
        "\n"
      ]
    },
    {
      "cell_type": "code",
      "execution_count": null,
      "id": "b8766f03",
      "metadata": {
        "colab": {
          "base_uri": "https://localhost:8080/"
        },
        "id": "b8766f03",
        "outputId": "e538b82d-0347-41ee-b12c-bd1e9f145733"
      },
      "outputs": [
        {
          "data": {
            "text/plain": [
              "{'type': 'Image',\n",
              " 'element_id': '3d178f54-529e-4a66-b5a6-e4d73b7a3b41',\n",
              " 'text': '',\n",
              " 'metadata': {'coordinates': {'points': ((486.0, 261.1805555555558),\n",
              "    (486.0, 614.7805555555556),\n",
              "    (664.0, 614.7805555555556),\n",
              "    (664.0, 261.1805555555558)),\n",
              "   'system': 'PixelSpace',\n",
              "   'layout_width': 1700,\n",
              "   'layout_height': 2200},\n",
              "  'last_modified': '2025-03-06T02:30:28',\n",
              "  'filetype': 'PPM',\n",
              "  'languages': ['eng'],\n",
              "  'page_number': 4,\n",
              "  'image_base64': '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',\n",
              "  'image_mime_type': 'image/jpeg'}}"
            ]
          },
          "execution_count": 42,
          "metadata": {},
          "output_type": "execute_result"
        }
      ],
      "source": [
        "# This is what an extracted image looks like.\n",
        "# It contains the base64 representation only because we set the param extract_image_block_to_payload=True\n",
        "\n",
        "elements = chunks[3].metadata.orig_elements\n",
        "chunk_images = [el for el in elements if 'Image' in str(type(el))]\n",
        "chunk_images[0].to_dict()"
      ]
    },
    {
      "cell_type": "markdown",
      "id": "26caebda",
      "metadata": {
        "id": "26caebda"
      },
      "source": [
        "### Separate extracted elements into tables, text, and images"
      ]
    },
    {
      "cell_type": "code",
      "execution_count": null,
      "id": "8326a750",
      "metadata": {
        "id": "8326a750"
      },
      "outputs": [],
      "source": [
        "# separate tables from texts\n",
        "tables = []\n",
        "texts = []\n",
        "\n",
        "for chunk in chunks:\n",
        "    if \"Table\" in str(type(chunk)):\n",
        "        tables.append(chunk)\n",
        "\n",
        "    if \"CompositeElement\" in str(type((chunk))):\n",
        "        texts.append(chunk)"
      ]
    },
    {
      "cell_type": "code",
      "execution_count": null,
      "id": "df548e46",
      "metadata": {
        "id": "df548e46"
      },
      "outputs": [],
      "source": [
        "# Get the images from the CompositeElement objects\n",
        "def get_images_base64(chunks):\n",
        "    images_b64 = []\n",
        "    for chunk in chunks:\n",
        "        if \"CompositeElement\" in str(type(chunk)):\n",
        "            chunk_els = chunk.metadata.orig_elements\n",
        "            for el in chunk_els:\n",
        "                if \"Image\" in str(type(el)):\n",
        "                    images_b64.append(el.metadata.image_base64)# defined in the code el.metadata.image_base64\n",
        "    return images_b64\n",
        "\n",
        "images = get_images_base64(chunks)"
      ]
    },
    {
      "cell_type": "markdown",
      "id": "9582f462",
      "metadata": {
        "id": "9582f462"
      },
      "source": [
        "#### Check what the images look like"
      ]
    },
    {
      "cell_type": "code",
      "execution_count": null,
      "id": "83158c36",
      "metadata": {
        "colab": {
          "base_uri": "https://localhost:8080/",
          "height": 346
        },
        "id": "83158c36",
        "outputId": "2c750047-b485-4f4c-b2b4-170e30e2a5d2"
      },
      "outputs": [
        {
          "data": {
            "image/jpeg": "[encoded data removed]",
            "text/plain": [
              "<IPython.core.display.Image object>"
            ]
          },
          "metadata": {},
          "output_type": "display_data"
        }
      ],
      "source": [
        "import base64\n",
        "from IPython.display import Image, display\n",
        "\n",
        "def display_base64_image(base64_code):\n",
        "    # Decode the base64 string to binary\n",
        "    image_data = base64.b64decode(base64_code)\n",
        "    # Display the image\n",
        "    display(Image(data=image_data))\n",
        "\n",
        "display_base64_image(images[5])"
      ]
    },
    {
      "cell_type": "markdown",
      "id": "0aa7f52f-bf5c-4ba4-af72-b2ccba59a4cf",
      "metadata": {
        "id": "0aa7f52f-bf5c-4ba4-af72-b2ccba59a4cf"
      },
      "source": [
        "## Summarize the data\n",
        "\n",
        "Create a summary of each element extracted from the PDF. This summary will be vectorized and used in the retrieval process."
      ]
    },
    {
      "cell_type": "markdown",
      "id": "8b55862c",
      "metadata": {
        "id": "8b55862c"
      },
      "source": [
        "### Text and Table summaries\n",
        "\n",
        "We don't need a multimodal model to generate the summaries of the tables and the text. I will use open source models available on Groq."
      ]
    },
    {
      "cell_type": "code",
      "execution_count": null,
      "id": "08b3d2bc",
      "metadata": {
        "colab": {
          "base_uri": "https://localhost:8080/"
        },
        "id": "08b3d2bc",
        "outputId": "f741854e-fccb-423c-ed5d-2aed2ffa979e"
      },
      "outputs": [
        {
          "name": "stdout",
          "output_type": "stream",
          "text": [
            "\u001b[?25l   \u001b[90m━━━━━━━━━━━━━━━━━━━━━━━━━━━━━━━━━━━━━━━━\u001b[0m \u001b[32m0.0/121.9 kB\u001b[0m \u001b[31m?\u001b[0m eta \u001b[36m-:--:--\u001b[0m\r\u001b[2K   \u001b[90m━━━━━━━━━━━━━━━━━━━━━━━━━━━━━━━━━━━━━━━━\u001b[0m \u001b[32m121.9/121.9 kB\u001b[0m \u001b[31m7.5 MB/s\u001b[0m eta \u001b[36m0:00:00\u001b[0m\n",
            "\u001b[?25h"
          ]
        }
      ],
      "source": [
        "%pip install -Uq langchain-groq"
      ]
    },
    {
      "cell_type": "code",
      "execution_count": null,
      "id": "523e6ed2-2132-4748-bdb7-db765f20648d",
      "metadata": {
        "id": "523e6ed2-2132-4748-bdb7-db765f20648d"
      },
      "outputs": [],
      "source": [
        "from langchain_groq import ChatGroq\n",
        "from langchain_core.prompts import ChatPromptTemplate\n",
        "from langchain_core.output_parsers import StrOutputParser"
      ]
    },
    {
      "cell_type": "code",
      "execution_count": null,
      "id": "22c22e3f-42fb-4a4a-a87a-89f10ba8ab99",
      "metadata": {
        "id": "22c22e3f-42fb-4a4a-a87a-89f10ba8ab99"
      },
      "outputs": [],
      "source": [
        "# Prompt\n",
        "prompt_text = \"\"\"\n",
        "You are an assistant tasked with summarizing tables and text.\n",
        "Give a concise summary of the table or text.\n",
        "\n",
        "Respond only with the summary, no additionnal comment.\n",
        "Do not start your message by saying \"Here is a summary\" or anything like that.\n",
        "Just give the summary as it is.\n",
        "\n",
        "Table or text chunk: {element}\n",
        "\n",
        "\"\"\"\n",
        "prompt = ChatPromptTemplate.from_template(prompt_text)\n",
        "\n",
        "# Summary chain\n",
        "model = ChatGroq(temperature=0.5, model=\"llama-3.1-8b-instant\")\n",
        "summarize_chain = {\"element\": lambda x: x} | prompt | model | StrOutputParser()"
      ]
    },
    {
      "cell_type": "code",
      "execution_count": null,
      "id": "3x8jIKVFe8Wj",
      "metadata": {
        "id": "3x8jIKVFe8Wj"
      },
      "outputs": [],
      "source": []
    },
    {
      "cell_type": "code",
      "execution_count": null,
      "id": "f176b374-aef0-48f4-a104-fb26b1dd6922",
      "metadata": {
        "colab": {
          "base_uri": "https://localhost:8080/"
        },
        "id": "f176b374-aef0-48f4-a104-fb26b1dd6922",
        "outputId": "869d0d81-8ed3-436c-ce56-85cf39eb420b"
      },
      "outputs": [
        {
          "name": "stderr",
          "output_type": "stream",
          "text": [
            "WARNING:langsmith.client:Failed to send compressed multipart ingest: langsmith.utils.LangSmithError: Failed to POST https://api.smith.langchain.com/runs/multipart in LangSmith API. HTTPError('403 Client Error: Forbidden for url: https://api.smith.langchain.com/runs/multipart', '{\"error\":\"Forbidden\"}\\n')\n",
            "WARNING:langsmith.client:Failed to send compressed multipart ingest: langsmith.utils.LangSmithError: Failed to POST https://api.smith.langchain.com/runs/multipart in LangSmith API. HTTPError('403 Client Error: Forbidden for url: https://api.smith.langchain.com/runs/multipart', '{\"error\":\"Forbidden\"}\\n')\n",
            "WARNING:langsmith.client:Failed to send compressed multipart ingest: langsmith.utils.LangSmithError: Failed to POST https://api.smith.langchain.com/runs/multipart in LangSmith API. HTTPError('403 Client Error: Forbidden for url: https://api.smith.langchain.com/runs/multipart', '{\"error\":\"Forbidden\"}\\n')\n"
          ]
        }
      ],
      "source": [
        "# Summarize text\n",
        "text_summaries = summarize_chain.batch(texts, {\"max_concurrency\": 3})\n",
        "\n",
        "# Summarize tables\n",
        "tables_html = [table.metadata.text_as_html for table in tables]\n",
        "table_summaries = summarize_chain.batch(tables_html, {\"max_concurrency\": 3})"
      ]
    },
    {
      "cell_type": "code",
      "execution_count": null,
      "id": "UVFhfMlcfn_7",
      "metadata": {
        "colab": {
          "base_uri": "https://localhost:8080/"
        },
        "id": "UVFhfMlcfn_7",
        "outputId": "208bdb99-0b23-47ea-81bb-503dd65cf6c7"
      },
      "outputs": [
        {
          "data": {
            "text/plain": [
              "[]"
            ]
          },
          "execution_count": 55,
          "metadata": {},
          "output_type": "execute_result"
        }
      ],
      "source": [
        "table_summaries"
      ]
    },
    {
      "cell_type": "code",
      "execution_count": null,
      "id": "1d172ad2",
      "metadata": {
        "colab": {
          "base_uri": "https://localhost:8080/"
        },
        "id": "1d172ad2",
        "outputId": "4ff9b16e-4272-4cb7-9a29-383d059c1f6c"
      },
      "outputs": [
        {
          "data": {
            "text/plain": [
              "['The paper proposes a new neural network architecture called the Transformer, based solely on attention mechanisms, which achieves superior results in machine translation tasks while being more parallelizable and requiring less training time.',\n",
              " 'Recurrent neural networks, long short-term memory, and gated recurrent neural networks are state-of-the-art approaches in sequence modeling and transduction problems. However, their sequential nature limits parallelization, and recent work has focused on improving computational efficiency through factorization tricks and conditional computation. This work proposes the Transformer, a model architecture that uses an attention mechanism to draw global dependencies without recurrence, allowing for more parallelization and reaching a new state of the art in translation quality.',\n",
              " 'The Transformer model architecture is based on an encoder-decoder structure with stacked self-attention and point-wise, fully connected layers. The encoder consists of 6 identical layers with multi-head self-attention and position-wise feed-forward networks, while the decoder has an additional sub-layer for multi-head attention over the encoder output.',\n",
              " 'The attention function maps a query to a set of key-value pairs, outputting a weighted sum of values based on the dot product of the query with each key, scaled by a factor of 1/√dk.',\n",
              " 'Multi-head attention projects queries, keys, and values h times with different linear projections, then performs attention in parallel, allowing the model to jointly attend to information from different representation subspaces. It consists of h parallel attention layers (heads) with reduced dimensionality, and is used in the Transformer model for encoder-decoder attention, encoder self-attention, and decoder self-attention.',\n",
              " 'The encoder and decoder layers contain a fully connected feed-forward network with two linear transformations and a ReLU activation in between, applied to each position separately. Positional encoding is added to input embeddings using sine and cosine functions of different frequencies to allow the model to make use of the order of the sequence.',\n",
              " 'Self-attention layers have advantages over recurrent and convolutional layers in sequence transduction tasks: faster computational complexity, more parallelizable computation, and shorter path lengths for learning long-range dependencies.',\n",
              " 'The training regime for our models consists of training on large datasets (WMT 2014 English-German and English-French) with byte-pair encoding, batching sentence pairs by sequence length, and using the Adam optimizer with a varying learning rate. Regularization techniques include residual dropout and label smoothing.',\n",
              " 'The Transformer model outperformed previous state-of-the-art models on two translation tasks, English-to-German and English-to-French, with BLEU scores of 28.4 and 41.0 respectively, while using significantly less training cost.',\n",
              " 'The Transformer model achieved state-of-the-art results in English constituency parsing, with a score of 92.7 F1 on the WSJ test set in a semi-supervised setting, outperforming previous models with the exception of the Recurrent Neural Network Grammar.',\n",
              " \"The Transformer model, a sequence transduction model based on attention, is presented, achieving a new state of the art in translation tasks and outperforming previously reported ensembles. The model's code is available online, and future research goals include applying attention-based models to other tasks and exploring local attention mechanisms for handling large inputs and outputs.\",\n",
              " 'The papers discussed neural machine translation systems, deep recurrent models, and attention mechanisms for resolving long-distance dependencies and anaphora resolution in natural language processing.']"
            ]
          },
          "execution_count": 52,
          "metadata": {},
          "output_type": "execute_result"
        }
      ],
      "source": [
        "text_summaries"
      ]
    },
    {
      "cell_type": "markdown",
      "id": "b1feadda-8171-4aed-9a60-320a88dc9ee1",
      "metadata": {
        "id": "b1feadda-8171-4aed-9a60-320a88dc9ee1"
      },
      "source": [
        "### Image summaries\n",
        "\n",
        "We will use gpt-4o-mini to produce the image summaries."
      ]
    },
    {
      "cell_type": "code",
      "execution_count": null,
      "id": "32c825e1",
      "metadata": {
        "colab": {
          "base_uri": "https://localhost:8080/"
        },
        "id": "32c825e1",
        "outputId": "93a9e979-91c1-4640-cae6-64d1059f3c6c"
      },
      "outputs": [
        {
          "name": "stdout",
          "output_type": "stream",
          "text": [
            "\u001b[?25l   \u001b[90m━━━━━━━━━━━━━━━━━━━━━━━━━━━━━━━━━━━━━━━━\u001b[0m \u001b[32m0.0/55.3 kB\u001b[0m \u001b[31m?\u001b[0m eta \u001b[36m-:--:--\u001b[0m\r\u001b[2K   \u001b[90m━━━━━━━━━━━━━━━━━━━━━━━━━━━━━━━━━━━━━━━━\u001b[0m \u001b[32m55.3/55.3 kB\u001b[0m \u001b[31m2.9 MB/s\u001b[0m eta \u001b[36m0:00:00\u001b[0m\n",
            "\u001b[?25h\u001b[?25l   \u001b[90m━━━━━━━━━━━━━━━━━━━━━━━━━━━━━━━━━━━━━━━━\u001b[0m \u001b[32m0.0/1.2 MB\u001b[0m \u001b[31m?\u001b[0m eta \u001b[36m-:--:--\u001b[0m\r\u001b[2K   \u001b[90m━━━━━━━━━━━━━━━━━━━━━━━━━━━━━━━━━━━━━━━━\u001b[0m \u001b[32m1.2/1.2 MB\u001b[0m \u001b[31m42.2 MB/s\u001b[0m eta \u001b[36m0:00:00\u001b[0m\n",
            "\u001b[?25h"
          ]
        }
      ],
      "source": [
        "%pip install -Uq langchain_openai"
      ]
    },
    {
      "cell_type": "code",
      "execution_count": null,
      "id": "9e6b1d97-4245-45ac-95ba-9bc1cfd10182",
      "metadata": {
        "colab": {
          "base_uri": "https://localhost:8080/",
          "height": 211
        },
        "id": "9e6b1d97-4245-45ac-95ba-9bc1cfd10182",
        "outputId": "77873cfc-12cb-4e70-83e8-9c49c5ed0e8d"
      },
      "outputs": [
        {
          "ename": "NameError",
          "evalue": "name 'ChatPromptTemplate' is not defined",
          "output_type": "error",
          "traceback": [
            "\u001b[0;31m---------------------------------------------------------------------------\u001b[0m",
            "\u001b[0;31mNameError\u001b[0m                                 Traceback (most recent call last)",
            "\u001b[0;32m<ipython-input-2-c4bd3e2abefb>\u001b[0m in \u001b[0;36m<cell line: 0>\u001b[0;34m()\u001b[0m\n\u001b[1;32m     17\u001b[0m ]\n\u001b[1;32m     18\u001b[0m \u001b[0;34m\u001b[0m\u001b[0m\n\u001b[0;32m---> 19\u001b[0;31m \u001b[0mprompt\u001b[0m \u001b[0;34m=\u001b[0m \u001b[0mChatPromptTemplate\u001b[0m\u001b[0;34m.\u001b[0m\u001b[0mfrom_messages\u001b[0m\u001b[0;34m(\u001b[0m\u001b[0mmessages\u001b[0m\u001b[0;34m)\u001b[0m\u001b[0;34m\u001b[0m\u001b[0;34m\u001b[0m\u001b[0m\n\u001b[0m\u001b[1;32m     20\u001b[0m \u001b[0;34m\u001b[0m\u001b[0m\n\u001b[1;32m     21\u001b[0m \u001b[0mchain\u001b[0m \u001b[0;34m=\u001b[0m \u001b[0mprompt\u001b[0m \u001b[0;34m|\u001b[0m \u001b[0mChatOpenAI\u001b[0m\u001b[0;34m(\u001b[0m\u001b[0mmodel\u001b[0m\u001b[0;34m=\u001b[0m\u001b[0;34m\"gpt-4o-mini\"\u001b[0m\u001b[0;34m)\u001b[0m \u001b[0;34m|\u001b[0m \u001b[0mStrOutputParser\u001b[0m\u001b[0;34m(\u001b[0m\u001b[0;34m)\u001b[0m\u001b[0;34m\u001b[0m\u001b[0;34m\u001b[0m\u001b[0m\n",
            "\u001b[0;31mNameError\u001b[0m: name 'ChatPromptTemplate' is not defined"
          ]
        }
      ],
      "source": [
        "from langchain_openai import ChatOpenAI\n",
        "\n",
        "prompt_template = \"\"\"Describe the image in detail. For context,\n",
        "                  the image is part of a research paper explaining the transformers\n",
        "                  architecture. Be specific about graphs, such as bar plots.\"\"\"\n",
        "messages = [\n",
        "    (\n",
        "        \"user\",\n",
        "        [\n",
        "            {\"type\": \"text\", \"text\": prompt_template},\n",
        "            {\n",
        "                \"type\": \"image_url\",\n",
        "                \"image_url\": {\"url\": \"data:image/jpeg;base64,{image}\"},\n",
        "            },\n",
        "        ],\n",
        "    )\n",
        "]\n",
        "\n",
        "prompt = ChatPromptTemplate.from_messages(messages)\n",
        "\n",
        "chain = prompt | ChatOpenAI(model=\"gpt-4o-mini\") | StrOutputParser()\n",
        "\n",
        "\n",
        "image_summaries = chain.batch(images)"
      ]
    },
    {
      "cell_type": "code",
      "execution_count": null,
      "id": "er5mnsfPhuqo",
      "metadata": {
        "id": "er5mnsfPhuqo"
      },
      "outputs": [],
      "source": [
        "from langchain_groq import ChatGroq\n",
        "from langchain_core.prompts import ChatPromptTemplate\n",
        "from langchain_core.output_parsers import StrOutputParser\n",
        "\n",
        "# Step 1: Process images with a multimodal model (e.g., LLaVA)\n",
        "# Assume `image_descriptions` is a list of text descriptions generated by LLaVA\n",
        "image_descriptions = [\n",
        "    \"A bar plot showing the performance of different transformer models.\",\n",
        "    \"A diagram of the transformer architecture with attention mechanisms.\"\n",
        "]\n",
        "\n",
        "# Step 2: Define the prompt template\n",
        "prompt_template = \"\"\"Describe the image in detail. For context,\n",
        "                  the image is part of a research paper explaining the transformers\n",
        "                  architecture. Be specific about graphs, such as bar plots.\n",
        "                  Image description: {image_description}\"\"\"\n",
        "prompt = ChatPromptTemplate.from_template(prompt_template)\n",
        "\n",
        "# Step 3: Set up the Groq model\n",
        "model = ChatGroq(temperature=0.5, model=\"llama-2-70b\")  # Use a Groq-supported model\n",
        "\n",
        "# Step 4: Create the chain\n",
        "chain = prompt | model | StrOutputParser()\n",
        "\n",
        "# Step 5: Process the image descriptions\n",
        "image_summaries = chain.batch(images)\n",
        "print(image_summaries)"
      ]
    },
    {
      "cell_type": "code",
      "execution_count": null,
      "id": "laF_8o1gzHT0",
      "metadata": {
        "id": "laF_8o1gzHT0"
      },
      "outputs": [],
      "source": [
        "image_summaries"
      ]
    },
    {
      "cell_type": "code",
      "execution_count": null,
      "id": "aHNDEd_2txQI",
      "metadata": {
        "id": "aHNDEd_2txQI"
      },
      "outputs": [],
      "source": [
        "print(image_summaries[1])"
      ]
    },
    {
      "cell_type": "markdown",
      "id": "67b030d4-2ac5-41b6-9245-fc3ba5771d87",
      "metadata": {
        "id": "67b030d4-2ac5-41b6-9245-fc3ba5771d87"
      },
      "source": [
        "## Load data and summaries to vectorstore"
      ]
    },
    {
      "cell_type": "markdown",
      "id": "bb4d2379",
      "metadata": {
        "id": "bb4d2379"
      },
      "source": [
        "### Create the vectorstore"
      ]
    },
    {
      "cell_type": "code",
      "execution_count": null,
      "id": "9d8d7a34-69e0-49a2-b9f7-1a4e7b26d78f",
      "metadata": {
        "id": "9d8d7a34-69e0-49a2-b9f7-1a4e7b26d78f"
      },
      "outputs": [],
      "source": [
        "import uuid\n",
        "from langchain.vectorstores import Chroma\n",
        "from langchain.storage import InMemoryStore\n",
        "from langchain.schema.document import Document\n",
        "from langchain.embeddings import OpenAIEmbeddings\n",
        "from langchain.retrievers.multi_vector import MultiVectorRetriever\n",
        "\n",
        "# The vectorstore to use to index the child chunks\n",
        "vectorstore = Chroma(collection_name=\"multi_modal_rag\", embedding_function=OpenAIEmbeddings())\n",
        "\n",
        "# The storage layer for the parent documents\n",
        "store = InMemoryStore()\n",
        "id_key = \"doc_id\"\n",
        "\n",
        "# The retriever (empty to start)\n",
        "retriever = MultiVectorRetriever(\n",
        "    vectorstore=vectorstore,\n",
        "    docstore=store,\n",
        "    id_key=id_key,\n",
        ")"
      ]
    },
    {
      "cell_type": "markdown",
      "id": "2bf26669",
      "metadata": {
        "id": "2bf26669"
      },
      "source": [
        "### Load the summaries and link the to the original data"
      ]
    },
    {
      "cell_type": "code",
      "execution_count": null,
      "id": "1792e683",
      "metadata": {
        "id": "1792e683"
      },
      "outputs": [],
      "source": [
        "# Add texts\n",
        "doc_ids = [str(uuid.uuid4()) for _ in texts]\n",
        "summary_texts = [\n",
        "    Document(page_content=summary, metadata={id_key: doc_ids[i]}) for i, summary in enumerate(text_summaries)\n",
        "]\n",
        "retriever.vectorstore.add_documents(summary_texts)\n",
        "retriever.docstore.mset(list(zip(doc_ids, texts)))\n",
        "\n",
        "# Add tables\n",
        "table_ids = [str(uuid.uuid4()) for _ in tables]\n",
        "summary_tables = [\n",
        "    Document(page_content=summary, metadata={id_key: table_ids[i]}) for i, summary in enumerate(table_summaries)\n",
        "]\n",
        "retriever.vectorstore.add_documents(summary_tables)\n",
        "retriever.docstore.mset(list(zip(table_ids, tables)))\n",
        "\n",
        "# Add image summaries\n",
        "img_ids = [str(uuid.uuid4()) for _ in images]\n",
        "summary_img = [\n",
        "    Document(page_content=summary, metadata={id_key: img_ids[i]}) for i, summary in enumerate(image_summaries)\n",
        "]\n",
        "retriever.vectorstore.add_documents(summary_img)\n",
        "retriever.docstore.mset(list(zip(img_ids, images)))"
      ]
    },
    {
      "cell_type": "markdown",
      "id": "4b45fb81-46b1-426e-aa2c-01aed4eac700",
      "metadata": {
        "id": "4b45fb81-46b1-426e-aa2c-01aed4eac700"
      },
      "source": [
        "### Check retrieval"
      ]
    },
    {
      "cell_type": "code",
      "execution_count": null,
      "id": "1bea75fe-85af-4955-a80c-6e0b44a8e215",
      "metadata": {
        "id": "1bea75fe-85af-4955-a80c-6e0b44a8e215"
      },
      "outputs": [],
      "source": [
        "# Retrieve\n",
        "docs = retriever.invoke(\n",
        "    \"who are the authors of the paper?\"\n",
        ")"
      ]
    },
    {
      "cell_type": "code",
      "execution_count": null,
      "id": "a0290c78",
      "metadata": {
        "id": "a0290c78"
      },
      "outputs": [],
      "source": [
        "for doc in docs:\n",
        "    print(str(doc) + \"\\n\\n\" + \"-\" * 80)"
      ]
    },
    {
      "cell_type": "markdown",
      "id": "69060724-e390-4dda-8250-5f86025c874a",
      "metadata": {
        "id": "69060724-e390-4dda-8250-5f86025c874a"
      },
      "source": [
        "## RAG pipeline"
      ]
    },
    {
      "cell_type": "code",
      "execution_count": null,
      "id": "771a47fa-1267-4db8-a6ae-5fde48bbc069",
      "metadata": {
        "id": "771a47fa-1267-4db8-a6ae-5fde48bbc069"
      },
      "outputs": [],
      "source": [
        "from langchain_core.runnables import RunnablePassthrough, RunnableLambda\n",
        "from langchain_core.messages import SystemMessage, HumanMessage\n",
        "from langchain_openai import ChatOpenAI\n",
        "from base64 import b64decode\n",
        "\n",
        "\n",
        "def parse_docs(docs):\n",
        "    \"\"\"Split base64-encoded images and texts\"\"\"\n",
        "    b64 = []\n",
        "    text = []\n",
        "    for doc in docs:\n",
        "        try:\n",
        "            b64decode(doc)\n",
        "            b64.append(doc)\n",
        "        except Exception as e:\n",
        "            text.append(doc)\n",
        "    return {\"images\": b64, \"texts\": text}\n",
        "\n",
        "\n",
        "def build_prompt(kwargs):\n",
        "\n",
        "    docs_by_type = kwargs[\"context\"]\n",
        "    user_question = kwargs[\"question\"]\n",
        "\n",
        "    context_text = \"\"\n",
        "    if len(docs_by_type[\"texts\"]) > 0:\n",
        "        for text_element in docs_by_type[\"texts\"]:\n",
        "            context_text += text_element.text\n",
        "\n",
        "    # construct prompt with context (including images)\n",
        "    prompt_template = f\"\"\"\n",
        "    Answer the question based only on the following context, which can include text, tables, and the below image.\n",
        "    Context: {context_text}\n",
        "    Question: {user_question}\n",
        "    \"\"\"\n",
        "\n",
        "    prompt_content = [{\"type\": \"text\", \"text\": prompt_template}]\n",
        "\n",
        "    if len(docs_by_type[\"images\"]) > 0:\n",
        "        for image in docs_by_type[\"images\"]:\n",
        "            prompt_content.append(\n",
        "                {\n",
        "                    \"type\": \"image_url\",\n",
        "                    \"image_url\": {\"url\": f\"data:image/jpeg;base64,{image}\"},\n",
        "                }\n",
        "            )\n",
        "\n",
        "    return ChatPromptTemplate.from_messages(\n",
        "        [\n",
        "            HumanMessage(content=prompt_content),\n",
        "        ]\n",
        "    )\n",
        "\n",
        "\n",
        "chain = (\n",
        "    {\n",
        "        \"context\": retriever | RunnableLambda(parse_docs),\n",
        "        \"question\": RunnablePassthrough(),\n",
        "    }\n",
        "    | RunnableLambda(build_prompt)\n",
        "    | ChatOpenAI(model=\"gpt-4o-mini\")\n",
        "    | StrOutputParser()\n",
        ")\n",
        "\n",
        "chain_with_sources = {\n",
        "    \"context\": retriever | RunnableLambda(parse_docs),\n",
        "    \"question\": RunnablePassthrough(),\n",
        "} | RunnablePassthrough().assign(\n",
        "    response=(\n",
        "        RunnableLambda(build_prompt)\n",
        "        | ChatOpenAI(model=\"gpt-4o-mini\")\n",
        "        | StrOutputParser()\n",
        "    )\n",
        ")"
      ]
    },
    {
      "cell_type": "code",
      "execution_count": null,
      "id": "ea8414a8-65ee-4e11-8154-029b454f46af",
      "metadata": {
        "colab": {
          "base_uri": "https://localhost:8080/",
          "height": 180
        },
        "id": "ea8414a8-65ee-4e11-8154-029b454f46af",
        "outputId": "2edf5f7e-9165-46ef-e710-cc945b78b230"
      },
      "outputs": [
        {
          "name": "stdout",
          "output_type": "stream",
          "text": [
            "The attention mechanism is a function that maps a query and a set of key-value pairs to an output, where the query, keys, values, and output are all vectors. The output is computed as a weighted sum of the values, with the weights determined by a compatibility function that measures how well the query aligns with each key.\n",
            "\n",
            "In mathematical terms, the attention function can be expressed as:\n",
            "\n",
            "\\[ \\text{Attention}(Q, K, V) = \\text{softmax}\\left(\\frac{QK^T}{\\sqrt{d_k}}\\right)V \\]\n",
            "\n",
            "Here, \\(Q\\) represents the queries, \\(K\\) the keys, and \\(V\\) the values. The dot products of the queries and keys are scaled by the square root of the dimension of the keys (\\(d_k\\)) to prevent large values that could push the softmax function into regions with small gradients. This attention mechanism allows the model to focus on different parts of the input sequence when producing an output, enhancing its ability to handle dependencies and context within the data. \n",
            "\n",
            "Additionally, multi-head attention extends this concept by performing multiple attention operations in parallel, allowing the model to attend to information from different representation subspaces simultaneously.\n"
          ]
        }
      ],
      "source": [
        "response = chain.invoke(\n",
        "    \"What is the attention mechanism?\"\n",
        ")\n",
        "\n",
        "print(response)"
      ]
    },
    {
      "cell_type": "code",
      "execution_count": null,
      "id": "e4adfeba",
      "metadata": {
        "id": "e4adfeba",
        "outputId": "7c82360d-4c90-4cd1-9db4-7ba815277bbc"
      },
      "outputs": [
        {
          "name": "stdout",
          "output_type": "stream",
          "text": [
            "Response: Multi-head attention is a mechanism used in the Transformer model that allows the model to focus on different parts of the input sequence simultaneously. Instead of using a single attention function, multi-head attention uses multiple attention heads, each performing attention with different, learned linear projections of the queries, keys, and values. \n",
            "\n",
            "Here's a breakdown of how it works:\n",
            "\n",
            "1. **Linear Projections**: The queries (Q), keys (K), and values (V) are projected into different subspaces using learned linear transformations. Each head has its own set of projections.\n",
            "\n",
            "2. **Parallel Attention**: Each head computes attention independently, allowing the model to attend to various representation subspaces from different positions in the input sequence.\n",
            "\n",
            "3. **Concatenation**: The outputs from all heads are concatenated together.\n",
            "\n",
            "4. **Final Linear Projection**: The concatenated output is then projected again to produce the final output.\n",
            "\n",
            "This approach enables the model to capture a richer set of relationships in the data compared to a single attention head, which might average out important information. Multi-head attention is particularly beneficial for tasks that require understanding complex dependencies in sequences, such as natural language processing.\n",
            "\n",
            "\n",
            "Context:\n",
            "3.2.2 Multi-Head Attention\n",
            "\n",
            "Instead of performing a single attention function with dmodel-dimensional keys, values and queries, we found it beneficial to linearly project the queries, keys and values h times with different, learned linear projections to dk, dk and dv dimensions, respectively. On each of these projected versions of queries, keys and values we then perform the attention function in parallel, yielding dv-dimensional\n",
            "\n",
            "‘To illustrate why the dot products get large, assume that the components of q and k are independent random variables with mean 0 and variance 1. Then their dot product, g -k = ves, qiki, has mean 0 and variance dx.\n",
            "\n",
            "4\n",
            "\n",
            "output values. These are concatenated and once again projected, resulting in the final values, as depicted in Figure 2.\n",
            "\n",
            "Multi-head attention allows the model to jointly attend to information from different representation subspaces at different positions. With a single attention head, averaging inhibits this.\n",
            "\n",
            "MultiHead(Q, K, V ) = Concat(head1, ..., headh)W O where headi = Attention(QW Q i , KW K i , V W V i )\n",
            "\n",
            "Where the projections are parameter matrices W Q and W O ∈ Rhdv×dmodel. i ∈ Rdmodel×dk , W K i ∈ Rdmodel×dk , W V i ∈ Rdmodel×dv\n",
            "\n",
            "In this work we employ h = 8 parallel attention layers, or heads. For each of these we use dk = dv = dmodel/h = 64. Due to the reduced dimension of each head, the total computational cost is similar to that of single-head attention with full dimensionality.\n",
            "\n",
            "3.2.3 Applications of Attention in our Model\n",
            "\n",
            "The Transformer uses multi-head attention in three different ways:\n",
            "\n",
            "• In \"encoder-decoder attention\" layers, the queries come from the previous decoder layer, and the memory keys and values come from the output of the encoder. This allows every position in the decoder to attend over all positions in the input sequence. This mimics the typical encoder-decoder attention mechanisms in sequence-to-sequence models such as [38, 2, 9].\n",
            "\n",
            "• The encoder contains self-attention layers. In a self-attention layer all of the keys, values and queries come from the same place, in this case, the output of the previous layer in the encoder. Each position in the encoder can attend to all positions in the previous layer of the encoder.\n",
            "\n",
            "• Similarly, self-attention layers in the decoder allow each position in the decoder to attend to all positions in the decoder up to and including that position. We need to prevent leftward information flow in the decoder to preserve the auto-regressive property. We implement this inside of scaled dot-product attention by masking out (setting to −∞) all values in the input of the softmax which correspond to illegal connections. See Figure 2.\n",
            "Page number:  4\n",
            "\n",
            "--------------------------------------------------\n",
            "\n",
            "big\n",
            "\n",
            "6\n",
            "\n",
            "1024\n",
            "\n",
            "4096\n",
            "\n",
            "16\n",
            "\n",
            "0.3\n",
            "\n",
            "300K 4.33\n",
            "\n",
            "26.4\n",
            "\n",
            "development set, newstest2013. We used beam search as described in the previous section, but no checkpoint averaging. We present these results in Table 3.\n",
            "\n",
            "In Table 3 rows (A), we vary the number of attention heads and the attention key and value dimensions, keeping the amount of computation constant, as described in Section 3.2.2. While single-head attention is 0.9 BLEU worse than the best setting, quality also drops off with too many heads.\n",
            "\n",
            "In Table 3 rows (B), we observe that reducing the attention key size dk hurts model quality. This suggests that determining compatibility is not easy and that a more sophisticated compatibility function than dot product may be beneficial. We further observe in rows (C) and (D) that, as expected, bigger models are better, and dropout is very helpful in avoiding over-fitting. In row (E) we replace our sinusoidal positional encoding with learned positional embeddings [9], and observe nearly identical results to the base model.\n",
            "\n",
            "6.3 English Constituency Parsing\n",
            "\n",
            "To evaluate if the Transformer can generalize to other tasks we performed experiments on English constituency parsing. This task presents specific challenges: the output is subject to strong structural constraints and is significantly longer than the input. Furthermore, RNN sequence-to-sequence models have not been able to attain state-of-the-art results in small-data regimes [37].\n",
            "\n",
            "We trained a 4-layer transformer with dmodel = 1024 on the Wall Street Journal (WSJ) portion of the Penn Treebank [25], about 40K training sentences. We also trained it in a semi-supervised setting, using the larger high-confidence and BerkleyParser corpora from with approximately 17M sentences [37]. We used a vocabulary of 16K tokens for the WSJ only setting and a vocabulary of 32K tokens for the semi-supervised setting.\n",
            "\n",
            "We performed only a small number of experiments to select the dropout, both attention and residual (section 5.4), learning rates and beam size on the Section 22 development set, all other parameters remained unchanged from the English-to-German base translation model. During inference, we\n",
            "\n",
            "9\n",
            "\n",
            "213\n",
            "\n",
            "Table 4: The Transformer generalizes well to English constituency parsing (Results are on Section 23 of WSJ)\n",
            "Page number:  9\n",
            "\n",
            "--------------------------------------------------\n",
            "\n",
            "[36] Christian Szegedy, Vincent Vanhoucke, Sergey Ioffe, Jonathon Shlens, and Zbigniew Wojna. Rethinking the inception architecture for computer vision. CoRR, abs/1512.00567, 2015.\n",
            "\n",
            "[37] Vinyals & Kaiser, Koo, Petrov, Sutskever, and Hinton. Grammar as a foreign language. In Advances in Neural Information Processing Systems, 2015.\n",
            "\n",
            "[38] Yonghui Wu, Mike Schuster, Zhifeng Chen, Quoc V Le, Mohammad Norouzi, Wolfgang Macherey, Maxim Krikun, Yuan Cao, Qin Gao, Klaus Macherey, et al. Google’s neural machine translation system: Bridging the gap between human and machine translation. arXiv preprint arXiv:1609.08144, 2016.\n",
            "\n",
            "[39] Jie Zhou, Ying Cao, Xuguang Wang, Peng Li, and Wei Xu. Deep recurrent models with fast-forward connections for neural machine translation. CoRR, abs/1606.04199, 2016.\n",
            "\n",
            "[40] Muhua Zhu, Yue Zhang, Wenliang Chen, Min Zhang, and Jingbo Zhu. Fast and accurate shift-reduce constituent parsing. In Proceedings of the 51st Annual Meeting of the ACL (Volume 1: Long Papers), pages 434–443. ACL, August 2013.\n",
            "\n",
            "12\n",
            "\n",
            "Attention Visualizations\n",
            "\n",
            "2 i i= RE 3 2 i 2 = = 2c 3 2 £ om % S GBANAAAA FS fe} oD DOD *H o Poe Q €oe2s oyzveyzuyeys 2SE @T_ EFESeSsEzESHR PL, SSSe TZSsSsggsg S=@LEGDEwB ECC oF aAeC RGN ESLSSSEESC -.VvVVVV VV HMO KEBOCSRSHLHOD QKXRDXE EO “A AAAAAA “= <2 £ 8 FogesouggsS ss P25 5273 Qvryxapvs\\3 es sa 5 Seeneteecorzgrs 2g ogs aaa oO 2 Sere =~ aA o ° 8 ueeeogoa0 o © £ 5 ane) vvvvv Vv £ eg € ° 2 Ss v Do <¢ 8 & |\n",
            "\n",
            "Figure 3: An example of the attention mechanism following long-distance dependencies in the encoder self-attention in layer 5 of 6. Many of the attention heads attend to a distant dependency of the verb ‘making’, completing the phrase ‘making...more difficult’. Attentions here shown only for the word ‘making’. Different colors represent different heads. Best viewed in color.\n",
            "\n",
            "13\n",
            "\n",
            "<ped> <ped> UOIUIdO == Aw ul Bulssiw ale « aM = yeum = S| sy ysnf pinoys = uoluldo Aw ul Bulssiw ae ysnf 38q Pinoys uojeojdde si! nq poped 38q JaAou Me] au <ped> <SOa> uojuido Aw ul Bulssiuw oe aM yeum S| SIU} ysnf 3q Pinoys uojeodde Ss}! ynq yoped 3q 4eAeuU meq auL <ped> <SOa> uo|uldo Aw ul Bulssiuw oe eM yeum S| Siu} ysnf 3q Pinoys uoyeoydde si! ynq yoped 3q aul\n",
            "\n",
            "Figure 4: Two attention heads, also in layer 5 of 6, apparently involved in anaphora resolution. Top: Full attentions for head 5. Bottom: Isolated attentions from just the word ‘its’ for attention heads 5 and 6. Note that the attentions are very sharp for this word.\n",
            "\n",
            "14\n",
            "\n",
            "<ped> <ped> <SOH>\\ <SO3> uoluido = uoluido Aw Aw yeyum S| sim pi—f}— 4 -ysn{ | Pinoys «+ pinoys uoeoydde uojeodde SHI S$}! | ya | nga ynq poped pooped aq aq Janou™ J@AoU WIM TIM me) me) aul “OU\n",
            "\n",
            "<ped> <ped> so <0 Uo|UIdO uoluido Aw Aw ul ul Bulssiw Bulssiw ae ale aM am yeuM yeum S| S| sty} # sly -—A - el eq eq pinoys « pinoys uojeoidde ee Ss}! Ss}! nq ee popod a —_ ee eq eq JOAoU JOAoU IW IW rr auL auL\n",
            "\n",
            "Figure 5: Many of the attention heads exhibit behaviour that seems related to the structure of the sentence. We give two such examples above, from two different heads from the encoder self-attention at layer 5 of 6. The heads clearly learned to perform different tasks.\n",
            "\n",
            "15\n",
            "Page number:  12\n",
            "\n",
            "--------------------------------------------------\n",
            "\n"
          ]
        },
        {
          "data": {
            "image/jpeg": "[encoded data removed]",
            "text/plain": [
              "<IPython.core.display.Image object>"
            ]
          },
          "metadata": {},
          "output_type": "display_data"
        }
      ],
      "source": [
        "response = chain_with_sources.invoke(\n",
        "    \"What is multihead?\"\n",
        ")\n",
        "\n",
        "print(\"Response:\", response['response'])\n",
        "\n",
        "print(\"\\n\\nContext:\")\n",
        "for text in response['context']['texts']:\n",
        "    print(text.text)\n",
        "    print(\"Page number: \", text.metadata.page_number)\n",
        "    print(\"\\n\" + \"-\"*50 + \"\\n\")\n",
        "for image in response['context']['images']:\n",
        "    display_base64_image(image)"
      ]
    },
    {
      "cell_type": "markdown",
      "id": "90cd3714",
      "metadata": {
        "id": "90cd3714"
      },
      "source": [
        "## References\n",
        "\n",
        "- [LangChain Inspiration](https://github.com/langchain-ai/langchain/blob/master/cookbook/Semi_structured_and_multi_modal_RAG.ipynb?ref=blog.langchain.dev)\n",
        "- [Multivector Storage](https://python.langchain.com/docs/how_to/multi_vector/)"
      ]
    }
  ],
  "metadata": {
    "accelerator": "GPU",
    "colab": {
      "collapsed_sections": [
        "74b56bde-1ba0-4525-a11d-cab02c5659e4",
        "8b55862c",
        "b1feadda-8171-4aed-9a60-320a88dc9ee1",
        "bb4d2379",
        "2bf26669",
        "4b45fb81-46b1-426e-aa2c-01aed4eac700",
        "69060724-e390-4dda-8250-5f86025c874a"
      ],
      "gpuType": "T4",
      "provenance": []
    },
    "kernelspec": {
      "display_name": "Python 3",
      "name": "python3"
    },
    "language_info": {
      "codemirror_mode": {
        "name": "ipython",
        "version": 3
      },
      "file_extension": ".py",
      "mimetype": "text/x-python",
      "name": "python",
      "nbconvert_exporter": "python",
      "pygments_lexer": "ipython3",
      "version": "3.12.7"
    },
    "widgets": {
      "application/vnd.jupyter.widget-state+json": {
        "012483d4c1064406932c662dee014e00": {
          "model_module": "@jupyter-widgets/controls",
          "model_module_version": "1.5.0",
          "model_name": "DescriptionStyleModel",
          "state": {
            "_model_module": "@jupyter-widgets/controls",
            "_model_module_version": "1.5.0",
            "_model_name": "DescriptionStyleModel",
            "_view_count": null,
            "_view_module": "@jupyter-widgets/base",
            "_view_module_version": "1.2.0",
            "_view_name": "StyleView",
            "description_width": ""
          }
        },
        "02df31a4c7394e20a0782cceb64972f8": {
          "model_module": "@jupyter-widgets/controls",
          "model_module_version": "1.5.0",
          "model_name": "FloatProgressModel",
          "state": {
            "_dom_classes": [],
            "_model_module": "@jupyter-widgets/controls",
            "_model_module_version": "1.5.0",
            "_model_name": "FloatProgressModel",
            "_view_count": null,
            "_view_module": "@jupyter-widgets/controls",
            "_view_module_version": "1.5.0",
            "_view_name": "ProgressView",
            "bar_style": "success",
            "description": "",
            "description_tooltip": null,
            "layout": "IPY_MODEL_10097809ee254681a5c7e44259e7ccff",
            "max": 1,
            "min": 0,
            "orientation": "horizontal",
            "style": "IPY_MODEL_5e2d95aa78d34f0b932393751296747e",
            "value": 0
          }
        },
        "03adf85ef48143198a8c7930f329e238": {
          "model_module": "@jupyter-widgets/base",
          "model_module_version": "1.2.0",
          "model_name": "LayoutModel",
          "state": {
            "_model_module": "@jupyter-widgets/base",
            "_model_module_version": "1.2.0",
            "_model_name": "LayoutModel",
            "_view_count": null,
            "_view_module": "@jupyter-widgets/base",
            "_view_module_version": "1.2.0",
            "_view_name": "LayoutView",
            "align_content": null,
            "align_items": null,
            "align_self": null,
            "border": null,
            "bottom": null,
            "display": null,
            "flex": null,
            "flex_flow": null,
            "grid_area": null,
            "grid_auto_columns": null,
            "grid_auto_flow": null,
            "grid_auto_rows": null,
            "grid_column": null,
            "grid_gap": null,
            "grid_row": null,
            "grid_template_areas": null,
            "grid_template_columns": null,
            "grid_template_rows": null,
            "height": null,
            "justify_content": null,
            "justify_items": null,
            "left": null,
            "margin": null,
            "max_height": null,
            "max_width": null,
            "min_height": null,
            "min_width": null,
            "object_fit": null,
            "object_position": null,
            "order": null,
            "overflow": null,
            "overflow_x": null,
            "overflow_y": null,
            "padding": null,
            "right": null,
            "top": null,
            "visibility": null,
            "width": null
          }
        },
        "0f187328110f40beac9ba3e5880e0b5d": {
          "model_module": "@jupyter-widgets/base",
          "model_module_version": "1.2.0",
          "model_name": "LayoutModel",
          "state": {
            "_model_module": "@jupyter-widgets/base",
            "_model_module_version": "1.2.0",
            "_model_name": "LayoutModel",
            "_view_count": null,
            "_view_module": "@jupyter-widgets/base",
            "_view_module_version": "1.2.0",
            "_view_name": "LayoutView",
            "align_content": null,
            "align_items": null,
            "align_self": null,
            "border": null,
            "bottom": null,
            "display": null,
            "flex": null,
            "flex_flow": null,
            "grid_area": null,
            "grid_auto_columns": null,
            "grid_auto_flow": null,
            "grid_auto_rows": null,
            "grid_column": null,
            "grid_gap": null,
            "grid_row": null,
            "grid_template_areas": null,
            "grid_template_columns": null,
            "grid_template_rows": null,
            "height": null,
            "justify_content": null,
            "justify_items": null,
            "left": null,
            "margin": null,
            "max_height": null,
            "max_width": null,
            "min_height": null,
            "min_width": null,
            "object_fit": null,
            "object_position": null,
            "order": null,
            "overflow": null,
            "overflow_x": null,
            "overflow_y": null,
            "padding": null,
            "right": null,
            "top": null,
            "visibility": null,
            "width": null
          }
        },
        "0f65b38b8e45423c96adb551232b4f4d": {
          "model_module": "@jupyter-widgets/controls",
          "model_module_version": "1.5.0",
          "model_name": "HTMLModel",
          "state": {
            "_dom_classes": [],
            "_model_module": "@jupyter-widgets/controls",
            "_model_module_version": "1.5.0",
            "_model_name": "HTMLModel",
            "_view_count": null,
            "_view_module": "@jupyter-widgets/controls",
            "_view_module_version": "1.5.0",
            "_view_name": "HTMLView",
            "description": "",
            "description_tooltip": null,
            "layout": "IPY_MODEL_c465664761464d8a9110f2b36ab6b2b6",
            "placeholder": "​",
            "style": "IPY_MODEL_9bc6130e62864731b7ceb271bb3d8b5c",
            "value": "model.safetensors: 100%"
          }
        },
        "10097809ee254681a5c7e44259e7ccff": {
          "model_module": "@jupyter-widgets/base",
          "model_module_version": "1.2.0",
          "model_name": "LayoutModel",
          "state": {
            "_model_module": "@jupyter-widgets/base",
            "_model_module_version": "1.2.0",
            "_model_name": "LayoutModel",
            "_view_count": null,
            "_view_module": "@jupyter-widgets/base",
            "_view_module_version": "1.2.0",
            "_view_name": "LayoutView",
            "align_content": null,
            "align_items": null,
            "align_self": null,
            "border": null,
            "bottom": null,
            "display": null,
            "flex": null,
            "flex_flow": null,
            "grid_area": null,
            "grid_auto_columns": null,
            "grid_auto_flow": null,
            "grid_auto_rows": null,
            "grid_column": null,
            "grid_gap": null,
            "grid_row": null,
            "grid_template_areas": null,
            "grid_template_columns": null,
            "grid_template_rows": null,
            "height": null,
            "justify_content": null,
            "justify_items": null,
            "left": null,
            "margin": null,
            "max_height": null,
            "max_width": null,
            "min_height": null,
            "min_width": null,
            "object_fit": null,
            "object_position": null,
            "order": null,
            "overflow": null,
            "overflow_x": null,
            "overflow_y": null,
            "padding": null,
            "right": null,
            "top": null,
            "visibility": null,
            "width": "20px"
          }
        },
        "1323777ad20a40d4bc414759f7e7af70": {
          "model_module": "@jupyter-widgets/controls",
          "model_module_version": "1.5.0",
          "model_name": "HTMLModel",
          "state": {
            "_dom_classes": [],
            "_model_module": "@jupyter-widgets/controls",
            "_model_module_version": "1.5.0",
            "_model_name": "HTMLModel",
            "_view_count": null,
            "_view_module": "@jupyter-widgets/controls",
            "_view_module_version": "1.5.0",
            "_view_name": "HTMLView",
            "description": "",
            "description_tooltip": null,
            "layout": "IPY_MODEL_28e9dce05ba14c408890693b5b6a8dec",
            "placeholder": "​",
            "style": "IPY_MODEL_012483d4c1064406932c662dee014e00",
            "value": " 0/0 [00:00&lt;?, ?it/s]"
          }
        },
        "171e20c360a74e37b022920bbfbd6726": {
          "model_module": "@jupyter-widgets/controls",
          "model_module_version": "1.5.0",
          "model_name": "HBoxModel",
          "state": {
            "_dom_classes": [],
            "_model_module": "@jupyter-widgets/controls",
            "_model_module_version": "1.5.0",
            "_model_name": "HBoxModel",
            "_view_count": null,
            "_view_module": "@jupyter-widgets/controls",
            "_view_module_version": "1.5.0",
            "_view_name": "HBoxView",
            "box_style": "",
            "children": [
              "IPY_MODEL_83f674a91b7448999970f5946ef48e36",
              "IPY_MODEL_b04d788fc66e46fbb4e005f0a64115bf",
              "IPY_MODEL_585deb995fe34c84b2b11b5f5910f2e0"
            ],
            "layout": "IPY_MODEL_bbeeba6874534b83bcb6fb63f70af9aa"
          }
        },
        "1e50378998f944f5905dd33c2e701acf": {
          "model_module": "@jupyter-widgets/controls",
          "model_module_version": "1.5.0",
          "model_name": "HTMLModel",
          "state": {
            "_dom_classes": [],
            "_model_module": "@jupyter-widgets/controls",
            "_model_module_version": "1.5.0",
            "_model_name": "HTMLModel",
            "_view_count": null,
            "_view_module": "@jupyter-widgets/controls",
            "_view_module_version": "1.5.0",
            "_view_name": "HTMLView",
            "description": "",
            "description_tooltip": null,
            "layout": "IPY_MODEL_48bcdf3f7e0b4428861cf45a1e5eeac8",
            "placeholder": "​",
            "style": "IPY_MODEL_b7cad28af16941998c8ba161593ef3fa",
            "value": "config.json: 100%"
          }
        },
        "1ecb5b386a364a90bcf2ac9ed8fab90c": {
          "model_module": "@jupyter-widgets/controls",
          "model_module_version": "1.5.0",
          "model_name": "ProgressStyleModel",
          "state": {
            "_model_module": "@jupyter-widgets/controls",
            "_model_module_version": "1.5.0",
            "_model_name": "ProgressStyleModel",
            "_view_count": null,
            "_view_module": "@jupyter-widgets/base",
            "_view_module_version": "1.2.0",
            "_view_name": "StyleView",
            "bar_color": null,
            "description_width": ""
          }
        },
        "226abe0b809b4a9abc893afa4d2f7d58": {
          "model_module": "@jupyter-widgets/base",
          "model_module_version": "1.2.0",
          "model_name": "LayoutModel",
          "state": {
            "_model_module": "@jupyter-widgets/base",
            "_model_module_version": "1.2.0",
            "_model_name": "LayoutModel",
            "_view_count": null,
            "_view_module": "@jupyter-widgets/base",
            "_view_module_version": "1.2.0",
            "_view_name": "LayoutView",
            "align_content": null,
            "align_items": null,
            "align_self": null,
            "border": null,
            "bottom": null,
            "display": null,
            "flex": null,
            "flex_flow": null,
            "grid_area": null,
            "grid_auto_columns": null,
            "grid_auto_flow": null,
            "grid_auto_rows": null,
            "grid_column": null,
            "grid_gap": null,
            "grid_row": null,
            "grid_template_areas": null,
            "grid_template_columns": null,
            "grid_template_rows": null,
            "height": null,
            "justify_content": null,
            "justify_items": null,
            "left": null,
            "margin": null,
            "max_height": null,
            "max_width": null,
            "min_height": null,
            "min_width": null,
            "object_fit": null,
            "object_position": null,
            "order": null,
            "overflow": null,
            "overflow_x": null,
            "overflow_y": null,
            "padding": null,
            "right": null,
            "top": null,
            "visibility": null,
            "width": null
          }
        },
        "27859dbc48994aa9a4a058ad0b73e826": {
          "model_module": "@jupyter-widgets/controls",
          "model_module_version": "1.5.0",
          "model_name": "HBoxModel",
          "state": {
            "_dom_classes": [],
            "_model_module": "@jupyter-widgets/controls",
            "_model_module_version": "1.5.0",
            "_model_name": "HBoxModel",
            "_view_count": null,
            "_view_module": "@jupyter-widgets/controls",
            "_view_module_version": "1.5.0",
            "_view_name": "HBoxView",
            "box_style": "",
            "children": [
              "IPY_MODEL_1e50378998f944f5905dd33c2e701acf",
              "IPY_MODEL_fc95fbfeb583406c93a638a87320307a",
              "IPY_MODEL_36b8ebd541a64d53ba3b05e4161e037d"
            ],
            "layout": "IPY_MODEL_efb7088fe1ea4e78995b578a11477980"
          }
        },
        "28d010b713984c64b3f62a69f8e10b45": {
          "model_module": "@jupyter-widgets/base",
          "model_module_version": "1.2.0",
          "model_name": "LayoutModel",
          "state": {
            "_model_module": "@jupyter-widgets/base",
            "_model_module_version": "1.2.0",
            "_model_name": "LayoutModel",
            "_view_count": null,
            "_view_module": "@jupyter-widgets/base",
            "_view_module_version": "1.2.0",
            "_view_name": "LayoutView",
            "align_content": null,
            "align_items": null,
            "align_self": null,
            "border": null,
            "bottom": null,
            "display": null,
            "flex": null,
            "flex_flow": null,
            "grid_area": null,
            "grid_auto_columns": null,
            "grid_auto_flow": null,
            "grid_auto_rows": null,
            "grid_column": null,
            "grid_gap": null,
            "grid_row": null,
            "grid_template_areas": null,
            "grid_template_columns": null,
            "grid_template_rows": null,
            "height": null,
            "justify_content": null,
            "justify_items": null,
            "left": null,
            "margin": null,
            "max_height": null,
            "max_width": null,
            "min_height": null,
            "min_width": null,
            "object_fit": null,
            "object_position": null,
            "order": null,
            "overflow": null,
            "overflow_x": null,
            "overflow_y": null,
            "padding": null,
            "right": null,
            "top": null,
            "visibility": null,
            "width": null
          }
        },
        "28e9dce05ba14c408890693b5b6a8dec": {
          "model_module": "@jupyter-widgets/base",
          "model_module_version": "1.2.0",
          "model_name": "LayoutModel",
          "state": {
            "_model_module": "@jupyter-widgets/base",
            "_model_module_version": "1.2.0",
            "_model_name": "LayoutModel",
            "_view_count": null,
            "_view_module": "@jupyter-widgets/base",
            "_view_module_version": "1.2.0",
            "_view_name": "LayoutView",
            "align_content": null,
            "align_items": null,
            "align_self": null,
            "border": null,
            "bottom": null,
            "display": null,
            "flex": null,
            "flex_flow": null,
            "grid_area": null,
            "grid_auto_columns": null,
            "grid_auto_flow": null,
            "grid_auto_rows": null,
            "grid_column": null,
            "grid_gap": null,
            "grid_row": null,
            "grid_template_areas": null,
            "grid_template_columns": null,
            "grid_template_rows": null,
            "height": null,
            "justify_content": null,
            "justify_items": null,
            "left": null,
            "margin": null,
            "max_height": null,
            "max_width": null,
            "min_height": null,
            "min_width": null,
            "object_fit": null,
            "object_position": null,
            "order": null,
            "overflow": null,
            "overflow_x": null,
            "overflow_y": null,
            "padding": null,
            "right": null,
            "top": null,
            "visibility": null,
            "width": null
          }
        },
        "2cee68f9f5b148b0abab3f6f87a95464": {
          "model_module": "@jupyter-widgets/controls",
          "model_module_version": "1.5.0",
          "model_name": "ProgressStyleModel",
          "state": {
            "_model_module": "@jupyter-widgets/controls",
            "_model_module_version": "1.5.0",
            "_model_name": "ProgressStyleModel",
            "_view_count": null,
            "_view_module": "@jupyter-widgets/base",
            "_view_module_version": "1.2.0",
            "_view_name": "StyleView",
            "bar_color": null,
            "description_width": ""
          }
        },
        "31dd8dfa7eb345fdb70bc87b67ac09d4": {
          "model_module": "@jupyter-widgets/base",
          "model_module_version": "1.2.0",
          "model_name": "LayoutModel",
          "state": {
            "_model_module": "@jupyter-widgets/base",
            "_model_module_version": "1.2.0",
            "_model_name": "LayoutModel",
            "_view_count": null,
            "_view_module": "@jupyter-widgets/base",
            "_view_module_version": "1.2.0",
            "_view_name": "LayoutView",
            "align_content": null,
            "align_items": null,
            "align_self": null,
            "border": null,
            "bottom": null,
            "display": null,
            "flex": null,
            "flex_flow": null,
            "grid_area": null,
            "grid_auto_columns": null,
            "grid_auto_flow": null,
            "grid_auto_rows": null,
            "grid_column": null,
            "grid_gap": null,
            "grid_row": null,
            "grid_template_areas": null,
            "grid_template_columns": null,
            "grid_template_rows": null,
            "height": null,
            "justify_content": null,
            "justify_items": null,
            "left": null,
            "margin": null,
            "max_height": null,
            "max_width": null,
            "min_height": null,
            "min_width": null,
            "object_fit": null,
            "object_position": null,
            "order": null,
            "overflow": null,
            "overflow_x": null,
            "overflow_y": null,
            "padding": null,
            "right": null,
            "top": null,
            "visibility": null,
            "width": null
          }
        },
        "36b8ebd541a64d53ba3b05e4161e037d": {
          "model_module": "@jupyter-widgets/controls",
          "model_module_version": "1.5.0",
          "model_name": "HTMLModel",
          "state": {
            "_dom_classes": [],
            "_model_module": "@jupyter-widgets/controls",
            "_model_module_version": "1.5.0",
            "_model_name": "HTMLModel",
            "_view_count": null,
            "_view_module": "@jupyter-widgets/controls",
            "_view_module_version": "1.5.0",
            "_view_name": "HTMLView",
            "description": "",
            "description_tooltip": null,
            "layout": "IPY_MODEL_31dd8dfa7eb345fdb70bc87b67ac09d4",
            "placeholder": "​",
            "style": "IPY_MODEL_c4b85a6d22b24fbd88f0c46a579e7f2c",
            "value": " 1.47k/1.47k [00:00&lt;00:00, 101kB/s]"
          }
        },
        "3df75a6f0c75481e9bb45275f08c2a9e": {
          "model_module": "@jupyter-widgets/controls",
          "model_module_version": "1.5.0",
          "model_name": "ProgressStyleModel",
          "state": {
            "_model_module": "@jupyter-widgets/controls",
            "_model_module_version": "1.5.0",
            "_model_name": "ProgressStyleModel",
            "_view_count": null,
            "_view_module": "@jupyter-widgets/base",
            "_view_module_version": "1.2.0",
            "_view_name": "StyleView",
            "bar_color": null,
            "description_width": ""
          }
        },
        "425513c0909a4c12b2a69e50cc93ab2b": {
          "model_module": "@jupyter-widgets/controls",
          "model_module_version": "1.5.0",
          "model_name": "HTMLModel",
          "state": {
            "_dom_classes": [],
            "_model_module": "@jupyter-widgets/controls",
            "_model_module_version": "1.5.0",
            "_model_name": "HTMLModel",
            "_view_count": null,
            "_view_module": "@jupyter-widgets/controls",
            "_view_module_version": "1.5.0",
            "_view_name": "HTMLView",
            "description": "",
            "description_tooltip": null,
            "layout": "IPY_MODEL_b0b40f0c6d3b48628872ffbbf970522e",
            "placeholder": "​",
            "style": "IPY_MODEL_b824b6c1ab5e460789e8f2d4ff3d53cd",
            "value": " 46.8M/46.8M [00:00&lt;00:00, 174MB/s]"
          }
        },
        "48bcdf3f7e0b4428861cf45a1e5eeac8": {
          "model_module": "@jupyter-widgets/base",
          "model_module_version": "1.2.0",
          "model_name": "LayoutModel",
          "state": {
            "_model_module": "@jupyter-widgets/base",
            "_model_module_version": "1.2.0",
            "_model_name": "LayoutModel",
            "_view_count": null,
            "_view_module": "@jupyter-widgets/base",
            "_view_module_version": "1.2.0",
            "_view_name": "LayoutView",
            "align_content": null,
            "align_items": null,
            "align_self": null,
            "border": null,
            "bottom": null,
            "display": null,
            "flex": null,
            "flex_flow": null,
            "grid_area": null,
            "grid_auto_columns": null,
            "grid_auto_flow": null,
            "grid_auto_rows": null,
            "grid_column": null,
            "grid_gap": null,
            "grid_row": null,
            "grid_template_areas": null,
            "grid_template_columns": null,
            "grid_template_rows": null,
            "height": null,
            "justify_content": null,
            "justify_items": null,
            "left": null,
            "margin": null,
            "max_height": null,
            "max_width": null,
            "min_height": null,
            "min_width": null,
            "object_fit": null,
            "object_position": null,
            "order": null,
            "overflow": null,
            "overflow_x": null,
            "overflow_y": null,
            "padding": null,
            "right": null,
            "top": null,
            "visibility": null,
            "width": null
          }
        },
        "4ef5123e424246fb929ee7cc81d36114": {
          "model_module": "@jupyter-widgets/base",
          "model_module_version": "1.2.0",
          "model_name": "LayoutModel",
          "state": {
            "_model_module": "@jupyter-widgets/base",
            "_model_module_version": "1.2.0",
            "_model_name": "LayoutModel",
            "_view_count": null,
            "_view_module": "@jupyter-widgets/base",
            "_view_module_version": "1.2.0",
            "_view_name": "LayoutView",
            "align_content": null,
            "align_items": null,
            "align_self": null,
            "border": null,
            "bottom": null,
            "display": null,
            "flex": null,
            "flex_flow": null,
            "grid_area": null,
            "grid_auto_columns": null,
            "grid_auto_flow": null,
            "grid_auto_rows": null,
            "grid_column": null,
            "grid_gap": null,
            "grid_row": null,
            "grid_template_areas": null,
            "grid_template_columns": null,
            "grid_template_rows": null,
            "height": null,
            "justify_content": null,
            "justify_items": null,
            "left": null,
            "margin": null,
            "max_height": null,
            "max_width": null,
            "min_height": null,
            "min_width": null,
            "object_fit": null,
            "object_position": null,
            "order": null,
            "overflow": null,
            "overflow_x": null,
            "overflow_y": null,
            "padding": null,
            "right": null,
            "top": null,
            "visibility": null,
            "width": null
          }
        },
        "52e86fedebe74585b006177b6bc2d1f8": {
          "model_module": "@jupyter-widgets/base",
          "model_module_version": "1.2.0",
          "model_name": "LayoutModel",
          "state": {
            "_model_module": "@jupyter-widgets/base",
            "_model_module_version": "1.2.0",
            "_model_name": "LayoutModel",
            "_view_count": null,
            "_view_module": "@jupyter-widgets/base",
            "_view_module_version": "1.2.0",
            "_view_name": "LayoutView",
            "align_content": null,
            "align_items": null,
            "align_self": null,
            "border": null,
            "bottom": null,
            "display": null,
            "flex": null,
            "flex_flow": null,
            "grid_area": null,
            "grid_auto_columns": null,
            "grid_auto_flow": null,
            "grid_auto_rows": null,
            "grid_column": null,
            "grid_gap": null,
            "grid_row": null,
            "grid_template_areas": null,
            "grid_template_columns": null,
            "grid_template_rows": null,
            "height": null,
            "justify_content": null,
            "justify_items": null,
            "left": null,
            "margin": null,
            "max_height": null,
            "max_width": null,
            "min_height": null,
            "min_width": null,
            "object_fit": null,
            "object_position": null,
            "order": null,
            "overflow": null,
            "overflow_x": null,
            "overflow_y": null,
            "padding": null,
            "right": null,
            "top": null,
            "visibility": null,
            "width": null
          }
        },
        "585deb995fe34c84b2b11b5f5910f2e0": {
          "model_module": "@jupyter-widgets/controls",
          "model_module_version": "1.5.0",
          "model_name": "HTMLModel",
          "state": {
            "_dom_classes": [],
            "_model_module": "@jupyter-widgets/controls",
            "_model_module_version": "1.5.0",
            "_model_name": "HTMLModel",
            "_view_count": null,
            "_view_module": "@jupyter-widgets/controls",
            "_view_module_version": "1.5.0",
            "_view_name": "HTMLView",
            "description": "",
            "description_tooltip": null,
            "layout": "IPY_MODEL_52e86fedebe74585b006177b6bc2d1f8",
            "placeholder": "​",
            "style": "IPY_MODEL_d31aac9fc43e45109e59b6863dadbd11",
            "value": " 115M/115M [00:00&lt;00:00, 228MB/s]"
          }
        },
        "5e2d95aa78d34f0b932393751296747e": {
          "model_module": "@jupyter-widgets/controls",
          "model_module_version": "1.5.0",
          "model_name": "ProgressStyleModel",
          "state": {
            "_model_module": "@jupyter-widgets/controls",
            "_model_module_version": "1.5.0",
            "_model_name": "ProgressStyleModel",
            "_view_count": null,
            "_view_module": "@jupyter-widgets/base",
            "_view_module_version": "1.2.0",
            "_view_name": "StyleView",
            "bar_color": null,
            "description_width": ""
          }
        },
        "639c462e371f42b8bc8b889a1ea78991": {
          "model_module": "@jupyter-widgets/controls",
          "model_module_version": "1.5.0",
          "model_name": "DescriptionStyleModel",
          "state": {
            "_model_module": "@jupyter-widgets/controls",
            "_model_module_version": "1.5.0",
            "_model_name": "DescriptionStyleModel",
            "_view_count": null,
            "_view_module": "@jupyter-widgets/base",
            "_view_module_version": "1.2.0",
            "_view_name": "StyleView",
            "description_width": ""
          }
        },
        "757da6cc103a498fa7521de35cd94a41": {
          "model_module": "@jupyter-widgets/controls",
          "model_module_version": "1.5.0",
          "model_name": "HBoxModel",
          "state": {
            "_dom_classes": [],
            "_model_module": "@jupyter-widgets/controls",
            "_model_module_version": "1.5.0",
            "_model_name": "HBoxModel",
            "_view_count": null,
            "_view_module": "@jupyter-widgets/controls",
            "_view_module_version": "1.5.0",
            "_view_name": "HBoxView",
            "box_style": "",
            "children": [
              "IPY_MODEL_7ec9abd475124554bf6fdbd2086a004d",
              "IPY_MODEL_02df31a4c7394e20a0782cceb64972f8",
              "IPY_MODEL_1323777ad20a40d4bc414759f7e7af70"
            ],
            "layout": "IPY_MODEL_28d010b713984c64b3f62a69f8e10b45"
          }
        },
        "7e9a20c7fd6f49348255d8b40e33bdfc": {
          "model_module": "@jupyter-widgets/base",
          "model_module_version": "1.2.0",
          "model_name": "LayoutModel",
          "state": {
            "_model_module": "@jupyter-widgets/base",
            "_model_module_version": "1.2.0",
            "_model_name": "LayoutModel",
            "_view_count": null,
            "_view_module": "@jupyter-widgets/base",
            "_view_module_version": "1.2.0",
            "_view_name": "LayoutView",
            "align_content": null,
            "align_items": null,
            "align_self": null,
            "border": null,
            "bottom": null,
            "display": null,
            "flex": null,
            "flex_flow": null,
            "grid_area": null,
            "grid_auto_columns": null,
            "grid_auto_flow": null,
            "grid_auto_rows": null,
            "grid_column": null,
            "grid_gap": null,
            "grid_row": null,
            "grid_template_areas": null,
            "grid_template_columns": null,
            "grid_template_rows": null,
            "height": null,
            "justify_content": null,
            "justify_items": null,
            "left": null,
            "margin": null,
            "max_height": null,
            "max_width": null,
            "min_height": null,
            "min_width": null,
            "object_fit": null,
            "object_position": null,
            "order": null,
            "overflow": null,
            "overflow_x": null,
            "overflow_y": null,
            "padding": null,
            "right": null,
            "top": null,
            "visibility": null,
            "width": null
          }
        },
        "7ec9abd475124554bf6fdbd2086a004d": {
          "model_module": "@jupyter-widgets/controls",
          "model_module_version": "1.5.0",
          "model_name": "HTMLModel",
          "state": {
            "_dom_classes": [],
            "_model_module": "@jupyter-widgets/controls",
            "_model_module_version": "1.5.0",
            "_model_name": "HTMLModel",
            "_view_count": null,
            "_view_module": "@jupyter-widgets/controls",
            "_view_module_version": "1.5.0",
            "_view_name": "HTMLView",
            "description": "",
            "description_tooltip": null,
            "layout": "IPY_MODEL_0f187328110f40beac9ba3e5880e0b5d",
            "placeholder": "​",
            "style": "IPY_MODEL_639c462e371f42b8bc8b889a1ea78991",
            "value": ""
          }
        },
        "835ae00570c74b68a0bc4b58f7bece6d": {
          "model_module": "@jupyter-widgets/base",
          "model_module_version": "1.2.0",
          "model_name": "LayoutModel",
          "state": {
            "_model_module": "@jupyter-widgets/base",
            "_model_module_version": "1.2.0",
            "_model_name": "LayoutModel",
            "_view_count": null,
            "_view_module": "@jupyter-widgets/base",
            "_view_module_version": "1.2.0",
            "_view_name": "LayoutView",
            "align_content": null,
            "align_items": null,
            "align_self": null,
            "border": null,
            "bottom": null,
            "display": null,
            "flex": null,
            "flex_flow": null,
            "grid_area": null,
            "grid_auto_columns": null,
            "grid_auto_flow": null,
            "grid_auto_rows": null,
            "grid_column": null,
            "grid_gap": null,
            "grid_row": null,
            "grid_template_areas": null,
            "grid_template_columns": null,
            "grid_template_rows": null,
            "height": null,
            "justify_content": null,
            "justify_items": null,
            "left": null,
            "margin": null,
            "max_height": null,
            "max_width": null,
            "min_height": null,
            "min_width": null,
            "object_fit": null,
            "object_position": null,
            "order": null,
            "overflow": null,
            "overflow_x": null,
            "overflow_y": null,
            "padding": null,
            "right": null,
            "top": null,
            "visibility": null,
            "width": null
          }
        },
        "83f674a91b7448999970f5946ef48e36": {
          "model_module": "@jupyter-widgets/controls",
          "model_module_version": "1.5.0",
          "model_name": "HTMLModel",
          "state": {
            "_dom_classes": [],
            "_model_module": "@jupyter-widgets/controls",
            "_model_module_version": "1.5.0",
            "_model_name": "HTMLModel",
            "_view_count": null,
            "_view_module": "@jupyter-widgets/controls",
            "_view_module_version": "1.5.0",
            "_view_name": "HTMLView",
            "description": "",
            "description_tooltip": null,
            "layout": "IPY_MODEL_7e9a20c7fd6f49348255d8b40e33bdfc",
            "placeholder": "​",
            "style": "IPY_MODEL_a599f88d766b45a89fe1d7a03a8a6b1a",
            "value": "model.safetensors: 100%"
          }
        },
        "9bc6130e62864731b7ceb271bb3d8b5c": {
          "model_module": "@jupyter-widgets/controls",
          "model_module_version": "1.5.0",
          "model_name": "DescriptionStyleModel",
          "state": {
            "_model_module": "@jupyter-widgets/controls",
            "_model_module_version": "1.5.0",
            "_model_name": "DescriptionStyleModel",
            "_view_count": null,
            "_view_module": "@jupyter-widgets/base",
            "_view_module_version": "1.2.0",
            "_view_name": "StyleView",
            "description_width": ""
          }
        },
        "a599f88d766b45a89fe1d7a03a8a6b1a": {
          "model_module": "@jupyter-widgets/controls",
          "model_module_version": "1.5.0",
          "model_name": "DescriptionStyleModel",
          "state": {
            "_model_module": "@jupyter-widgets/controls",
            "_model_module_version": "1.5.0",
            "_model_name": "DescriptionStyleModel",
            "_view_count": null,
            "_view_module": "@jupyter-widgets/base",
            "_view_module_version": "1.2.0",
            "_view_name": "StyleView",
            "description_width": ""
          }
        },
        "b04d788fc66e46fbb4e005f0a64115bf": {
          "model_module": "@jupyter-widgets/controls",
          "model_module_version": "1.5.0",
          "model_name": "FloatProgressModel",
          "state": {
            "_dom_classes": [],
            "_model_module": "@jupyter-widgets/controls",
            "_model_module_version": "1.5.0",
            "_model_name": "FloatProgressModel",
            "_view_count": null,
            "_view_module": "@jupyter-widgets/controls",
            "_view_module_version": "1.5.0",
            "_view_name": "ProgressView",
            "bar_style": "success",
            "description": "",
            "description_tooltip": null,
            "layout": "IPY_MODEL_226abe0b809b4a9abc893afa4d2f7d58",
            "max": 115434268,
            "min": 0,
            "orientation": "horizontal",
            "style": "IPY_MODEL_2cee68f9f5b148b0abab3f6f87a95464",
            "value": 115434268
          }
        },
        "b0b40f0c6d3b48628872ffbbf970522e": {
          "model_module": "@jupyter-widgets/base",
          "model_module_version": "1.2.0",
          "model_name": "LayoutModel",
          "state": {
            "_model_module": "@jupyter-widgets/base",
            "_model_module_version": "1.2.0",
            "_model_name": "LayoutModel",
            "_view_count": null,
            "_view_module": "@jupyter-widgets/base",
            "_view_module_version": "1.2.0",
            "_view_name": "LayoutView",
            "align_content": null,
            "align_items": null,
            "align_self": null,
            "border": null,
            "bottom": null,
            "display": null,
            "flex": null,
            "flex_flow": null,
            "grid_area": null,
            "grid_auto_columns": null,
            "grid_auto_flow": null,
            "grid_auto_rows": null,
            "grid_column": null,
            "grid_gap": null,
            "grid_row": null,
            "grid_template_areas": null,
            "grid_template_columns": null,
            "grid_template_rows": null,
            "height": null,
            "justify_content": null,
            "justify_items": null,
            "left": null,
            "margin": null,
            "max_height": null,
            "max_width": null,
            "min_height": null,
            "min_width": null,
            "object_fit": null,
            "object_position": null,
            "order": null,
            "overflow": null,
            "overflow_x": null,
            "overflow_y": null,
            "padding": null,
            "right": null,
            "top": null,
            "visibility": null,
            "width": null
          }
        },
        "b7cad28af16941998c8ba161593ef3fa": {
          "model_module": "@jupyter-widgets/controls",
          "model_module_version": "1.5.0",
          "model_name": "DescriptionStyleModel",
          "state": {
            "_model_module": "@jupyter-widgets/controls",
            "_model_module_version": "1.5.0",
            "_model_name": "DescriptionStyleModel",
            "_view_count": null,
            "_view_module": "@jupyter-widgets/base",
            "_view_module_version": "1.2.0",
            "_view_name": "StyleView",
            "description_width": ""
          }
        },
        "b824b6c1ab5e460789e8f2d4ff3d53cd": {
          "model_module": "@jupyter-widgets/controls",
          "model_module_version": "1.5.0",
          "model_name": "DescriptionStyleModel",
          "state": {
            "_model_module": "@jupyter-widgets/controls",
            "_model_module_version": "1.5.0",
            "_model_name": "DescriptionStyleModel",
            "_view_count": null,
            "_view_module": "@jupyter-widgets/base",
            "_view_module_version": "1.2.0",
            "_view_name": "StyleView",
            "description_width": ""
          }
        },
        "b98cb470f89744f492707bbb4ca5c471": {
          "model_module": "@jupyter-widgets/controls",
          "model_module_version": "1.5.0",
          "model_name": "FloatProgressModel",
          "state": {
            "_dom_classes": [],
            "_model_module": "@jupyter-widgets/controls",
            "_model_module_version": "1.5.0",
            "_model_name": "FloatProgressModel",
            "_view_count": null,
            "_view_module": "@jupyter-widgets/controls",
            "_view_module_version": "1.5.0",
            "_view_name": "ProgressView",
            "bar_style": "success",
            "description": "",
            "description_tooltip": null,
            "layout": "IPY_MODEL_4ef5123e424246fb929ee7cc81d36114",
            "max": 46807446,
            "min": 0,
            "orientation": "horizontal",
            "style": "IPY_MODEL_1ecb5b386a364a90bcf2ac9ed8fab90c",
            "value": 46807446
          }
        },
        "bbeeba6874534b83bcb6fb63f70af9aa": {
          "model_module": "@jupyter-widgets/base",
          "model_module_version": "1.2.0",
          "model_name": "LayoutModel",
          "state": {
            "_model_module": "@jupyter-widgets/base",
            "_model_module_version": "1.2.0",
            "_model_name": "LayoutModel",
            "_view_count": null,
            "_view_module": "@jupyter-widgets/base",
            "_view_module_version": "1.2.0",
            "_view_name": "LayoutView",
            "align_content": null,
            "align_items": null,
            "align_self": null,
            "border": null,
            "bottom": null,
            "display": null,
            "flex": null,
            "flex_flow": null,
            "grid_area": null,
            "grid_auto_columns": null,
            "grid_auto_flow": null,
            "grid_auto_rows": null,
            "grid_column": null,
            "grid_gap": null,
            "grid_row": null,
            "grid_template_areas": null,
            "grid_template_columns": null,
            "grid_template_rows": null,
            "height": null,
            "justify_content": null,
            "justify_items": null,
            "left": null,
            "margin": null,
            "max_height": null,
            "max_width": null,
            "min_height": null,
            "min_width": null,
            "object_fit": null,
            "object_position": null,
            "order": null,
            "overflow": null,
            "overflow_x": null,
            "overflow_y": null,
            "padding": null,
            "right": null,
            "top": null,
            "visibility": null,
            "width": null
          }
        },
        "c1b47648b8ea4442a9ef8042e4e688d2": {
          "model_module": "@jupyter-widgets/controls",
          "model_module_version": "1.5.0",
          "model_name": "HBoxModel",
          "state": {
            "_dom_classes": [],
            "_model_module": "@jupyter-widgets/controls",
            "_model_module_version": "1.5.0",
            "_model_name": "HBoxModel",
            "_view_count": null,
            "_view_module": "@jupyter-widgets/controls",
            "_view_module_version": "1.5.0",
            "_view_name": "HBoxView",
            "box_style": "",
            "children": [
              "IPY_MODEL_0f65b38b8e45423c96adb551232b4f4d",
              "IPY_MODEL_b98cb470f89744f492707bbb4ca5c471",
              "IPY_MODEL_425513c0909a4c12b2a69e50cc93ab2b"
            ],
            "layout": "IPY_MODEL_03adf85ef48143198a8c7930f329e238"
          }
        },
        "c465664761464d8a9110f2b36ab6b2b6": {
          "model_module": "@jupyter-widgets/base",
          "model_module_version": "1.2.0",
          "model_name": "LayoutModel",
          "state": {
            "_model_module": "@jupyter-widgets/base",
            "_model_module_version": "1.2.0",
            "_model_name": "LayoutModel",
            "_view_count": null,
            "_view_module": "@jupyter-widgets/base",
            "_view_module_version": "1.2.0",
            "_view_name": "LayoutView",
            "align_content": null,
            "align_items": null,
            "align_self": null,
            "border": null,
            "bottom": null,
            "display": null,
            "flex": null,
            "flex_flow": null,
            "grid_area": null,
            "grid_auto_columns": null,
            "grid_auto_flow": null,
            "grid_auto_rows": null,
            "grid_column": null,
            "grid_gap": null,
            "grid_row": null,
            "grid_template_areas": null,
            "grid_template_columns": null,
            "grid_template_rows": null,
            "height": null,
            "justify_content": null,
            "justify_items": null,
            "left": null,
            "margin": null,
            "max_height": null,
            "max_width": null,
            "min_height": null,
            "min_width": null,
            "object_fit": null,
            "object_position": null,
            "order": null,
            "overflow": null,
            "overflow_x": null,
            "overflow_y": null,
            "padding": null,
            "right": null,
            "top": null,
            "visibility": null,
            "width": null
          }
        },
        "c4b85a6d22b24fbd88f0c46a579e7f2c": {
          "model_module": "@jupyter-widgets/controls",
          "model_module_version": "1.5.0",
          "model_name": "DescriptionStyleModel",
          "state": {
            "_model_module": "@jupyter-widgets/controls",
            "_model_module_version": "1.5.0",
            "_model_name": "DescriptionStyleModel",
            "_view_count": null,
            "_view_module": "@jupyter-widgets/base",
            "_view_module_version": "1.2.0",
            "_view_name": "StyleView",
            "description_width": ""
          }
        },
        "d31aac9fc43e45109e59b6863dadbd11": {
          "model_module": "@jupyter-widgets/controls",
          "model_module_version": "1.5.0",
          "model_name": "DescriptionStyleModel",
          "state": {
            "_model_module": "@jupyter-widgets/controls",
            "_model_module_version": "1.5.0",
            "_model_name": "DescriptionStyleModel",
            "_view_count": null,
            "_view_module": "@jupyter-widgets/base",
            "_view_module_version": "1.2.0",
            "_view_name": "StyleView",
            "description_width": ""
          }
        },
        "efb7088fe1ea4e78995b578a11477980": {
          "model_module": "@jupyter-widgets/base",
          "model_module_version": "1.2.0",
          "model_name": "LayoutModel",
          "state": {
            "_model_module": "@jupyter-widgets/base",
            "_model_module_version": "1.2.0",
            "_model_name": "LayoutModel",
            "_view_count": null,
            "_view_module": "@jupyter-widgets/base",
            "_view_module_version": "1.2.0",
            "_view_name": "LayoutView",
            "align_content": null,
            "align_items": null,
            "align_self": null,
            "border": null,
            "bottom": null,
            "display": null,
            "flex": null,
            "flex_flow": null,
            "grid_area": null,
            "grid_auto_columns": null,
            "grid_auto_flow": null,
            "grid_auto_rows": null,
            "grid_column": null,
            "grid_gap": null,
            "grid_row": null,
            "grid_template_areas": null,
            "grid_template_columns": null,
            "grid_template_rows": null,
            "height": null,
            "justify_content": null,
            "justify_items": null,
            "left": null,
            "margin": null,
            "max_height": null,
            "max_width": null,
            "min_height": null,
            "min_width": null,
            "object_fit": null,
            "object_position": null,
            "order": null,
            "overflow": null,
            "overflow_x": null,
            "overflow_y": null,
            "padding": null,
            "right": null,
            "top": null,
            "visibility": null,
            "width": null
          }
        },
        "fc95fbfeb583406c93a638a87320307a": {
          "model_module": "@jupyter-widgets/controls",
          "model_module_version": "1.5.0",
          "model_name": "FloatProgressModel",
          "state": {
            "_dom_classes": [],
            "_model_module": "@jupyter-widgets/controls",
            "_model_module_version": "1.5.0",
            "_model_name": "FloatProgressModel",
            "_view_count": null,
            "_view_module": "@jupyter-widgets/controls",
            "_view_module_version": "1.5.0",
            "_view_name": "ProgressView",
            "bar_style": "success",
            "description": "",
            "description_tooltip": null,
            "layout": "IPY_MODEL_835ae00570c74b68a0bc4b58f7bece6d",
            "max": 1469,
            "min": 0,
            "orientation": "horizontal",
            "style": "IPY_MODEL_3df75a6f0c75481e9bb45275f08c2a9e",
            "value": 1469
          }
        }
      }
    }
  },
  "nbformat": 4,
  "nbformat_minor": 5
}
